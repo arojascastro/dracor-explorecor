{
 "cells": [
  {
   "cell_type": "code",
   "execution_count": null,
   "id": "ec6ecd77-8ff7-4de8-a934-791880185168",
   "metadata": {},
   "outputs": [],
   "source": [
    "import requests\n",
    "import pandas as pd\n",
    "\n",
    "# Define the corpus name and base URL\n",
    "corpusname = \"cal\"\n",
    "BASE_URL = \"https://dracor.org/api/v1/\"\n",
    "\n",
    "# Retrieve all plays in the corpus using the /plays endpoint with query parameter 'corpus'\n",
    "plays_url = f\"{BASE_URL}plays?corpus={corpusname}\"\n",
    "response = requests.get(plays_url)\n",
    "if response.status_code != 200:\n",
    "    raise Exception(f\"Error fetching plays. Status code: {response.status_code}\")\n",
    "\n",
    "plays_data = response.json().get(\"plays\", [])\n",
    "print(f\"Found {len(plays_data)} plays in corpus '{corpusname}'.\")\n",
    "\n",
    "# Prepare a list to store results for plays where the top speaker is female.\n",
    "results = []\n",
    "\n",
    "for play in plays_data:\n",
    "    # Use \"dracorId\" if available; otherwise, fall back to \"name\" as the play identifier\n",
    "    play_id = play.get(\"dracorId\") or play.get(\"name\")\n",
    "    \n",
    "    # Construct the URL for the characters of this play\n",
    "    characters_url = f\"{BASE_URL}corpora/{corpusname}/plays/{play_id}/characters\"\n",
    "    char_response = requests.get(characters_url)\n",
    "    if char_response.status_code != 200:\n",
    "        print(f\"Error fetching characters for play {play_id} (Status: {char_response.status_code}). Skipping...\")\n",
    "        continue\n",
    "\n",
    "    characters = char_response.json()\n",
    "    if not characters:\n",
    "        print(f\"No characters found in play {play_id}.\")\n",
    "        continue\n",
    "\n",
    "    # Identify the character with the highest word count (i.e., the top speaker)\n",
    "    top_speaker = max(characters, key=lambda ch: ch.get(\"wordCount\", 0))\n",
    "\n",
    "    # Only add to results if the top speaker is FEMALE.\n",
    "    if top_speaker.get(\"gender\") == \"FEMALE\":\n",
    "        results.append({\n",
    "            \"play\": play.get(\"title\", play_id),\n",
    "            \"character\": top_speaker.get(\"name\", \"Unknown\"),\n",
    "            \"wordCount\": top_speaker.get(\"wordCount\", 0)\n",
    "        })\n",
    "    else:\n",
    "        print(f\"In play '{play.get('title', play_id)}', the top speaker is not female. Skipping.\")\n",
    "\n",
    "# Convert the results to a DataFrame and display it as a table\n",
    "df_results = pd.DataFrame(results)\n",
    "display(df_results)\n",
    "\n",
    "# Save the results as a CSV file (filename includes the corpus name)\n",
    "csv_filename = f\"{corpusname}_top_female_speakers.csv\"\n",
    "df_results.to_csv(csv_filename, index=False)\n",
    "print(f\"Results saved to {csv_filename}\")\n"
   ]
  },
  {
   "cell_type": "code",
   "execution_count": null,
   "id": "f50ddbf4-73c0-43d2-afc8-632e9fca4c28",
   "metadata": {},
   "outputs": [],
   "source": []
  },
  {
   "cell_type": "code",
   "execution_count": null,
   "id": "2a2a91d1-823d-4d65-95fe-df9d33e76407",
   "metadata": {},
   "outputs": [],
   "source": []
  }
 ],
 "metadata": {
  "kernelspec": {
   "display_name": "Python 3 (ipykernel)",
   "language": "python",
   "name": "python3"
  },
  "language_info": {
   "codemirror_mode": {
    "name": "ipython",
    "version": 3
   },
   "file_extension": ".py",
   "mimetype": "text/x-python",
   "name": "python",
   "nbconvert_exporter": "python",
   "pygments_lexer": "ipython3",
   "version": "3.11.8"
  }
 },
 "nbformat": 4,
 "nbformat_minor": 5
}
