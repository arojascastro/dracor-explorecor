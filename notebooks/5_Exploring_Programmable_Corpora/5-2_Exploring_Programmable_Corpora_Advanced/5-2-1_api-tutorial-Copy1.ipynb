{
 "cells": [
  {
   "cell_type": "markdown",
   "metadata": {},
   "source": [
    "# DraCor API Tutorial"
   ]
  },
  {
   "cell_type": "markdown",
   "metadata": {},
   "source": [
    "## 0. Import libraries"
   ]
  },
  {
   "cell_type": "markdown",
   "metadata": {},
   "source": [
    "To use the [DraCor-API](https://dracor.org/doc/api) we need to send HTTP-Requests to the API: `https://dracor.org/api`. In Python HTTP-Request can be sent with the library `requests` (https://requests.readthedocs.io). We have to import this library:"
   ]
  },
  {
   "cell_type": "code",
   "execution_count": 3,
   "metadata": {},
   "outputs": [],
   "source": [
    "import requests"
   ]
  },
  {
   "cell_type": "markdown",
   "metadata": {},
   "source": [
    "To fascilitate the work with the metadata of the corpora in DraCor, we can use the library `pandas` (https://pandas.pydata.org/docs/). To be able to plot data with pandas, we also need to import the library `matplotlib` (https://matplotlib.org/). The libraries are imported below:"
   ]
  },
  {
   "cell_type": "code",
   "execution_count": 4,
   "metadata": {},
   "outputs": [],
   "source": [
    "import pandas as pd\n",
    "import matplotlib"
   ]
  },
  {
   "cell_type": "markdown",
   "metadata": {},
   "source": [
    "## 1. Basic API calls without selected parameters"
   ]
  },
  {
   "cell_type": "markdown",
   "metadata": {},
   "source": [
    "## `/info`: Info about the API \n",
    "We can get information about the API and DraCor data by sending **GET requests** to the API. \n",
    "\n",
    "For this, we take the base URL, saved in the variable `API_URL` below:"
   ]
  },
  {
   "cell_type": "code",
   "execution_count": 5,
   "metadata": {},
   "outputs": [],
   "source": [
    "# save base URL in variable  \n",
    "API_URL = \"https://dracor.org/api/v1/\""
   ]
  },
  {
   "cell_type": "markdown",
   "metadata": {},
   "source": [
    "We can then extend the URL to ask for specific information. If we want to know more about the API itself, we can use the parameter `info/` saved in the variable `INFO_EXTENSION`.\n",
    "\n",
    "\n",
    "This will give us:\n",
    "* name\n",
    "* version\n",
    "* status\n",
    "* the version of the database (\"existdb\")\n",
    "\n",
    "The documentation of this endpoint can be found here: https://dracor.org/doc/api#/public/api-info"
   ]
  },
  {
   "cell_type": "code",
   "execution_count": 6,
   "metadata": {},
   "outputs": [
    {
     "data": {
      "text/plain": [
       "'{\\n  \"name\" : \"DraCor API v1\",\\n  \"version\" : \"1.0.2\",\\n  \"status\" : \"stable\",\\n  \"existdb\" : \"6.2.0\",\\n  \"base\" : \"https://dracor.org/api/v1\"\\n}'"
      ]
     },
     "execution_count": 6,
     "metadata": {},
     "output_type": "execute_result"
    }
   ],
   "source": [
    "# to get the info we extend the API URL by the parameter \"info\"\n",
    "# save \"info\" parameter in variable\n",
    "INFO_EXTENSION = \"info\"\n",
    "\n",
    "# add extension to the base URL\n",
    "api_info_url = API_URL + INFO_EXTENSION\n",
    "\n",
    "# perform get request\n",
    "r = requests.get(api_info_url)\n",
    "r.text"
   ]
  },
  {
   "cell_type": "markdown",
   "metadata": {},
   "source": [
    "The API returns the information in the JSON format, which we have to parse. We can call `.json()` on the request object."
   ]
  },
  {
   "cell_type": "code",
   "execution_count": 7,
   "metadata": {},
   "outputs": [
    {
     "data": {
      "text/plain": [
       "{'name': 'DraCor API v1',\n",
       " 'version': '1.0.2',\n",
       " 'status': 'stable',\n",
       " 'existdb': '6.2.0',\n",
       " 'base': 'https://dracor.org/api/v1'}"
      ]
     },
     "execution_count": 7,
     "metadata": {},
     "output_type": "execute_result"
    }
   ],
   "source": [
    "# read response as JSON\n",
    "parsed_response = r.json()\n",
    "parsed_response"
   ]
  },
  {
   "cell_type": "markdown",
   "metadata": {},
   "source": [
    "As the response is a dictionary object, we can e.g. get the current version of the API by accessing it with the keyword \"version\"."
   ]
  },
  {
   "cell_type": "code",
   "execution_count": 8,
   "metadata": {},
   "outputs": [
    {
     "name": "stdout",
     "output_type": "stream",
     "text": [
      "The current version of the Dracor-API is 1.0.2.\n"
     ]
    }
   ],
   "source": [
    "print(f\"The current version of the Dracor-API is {parsed_response['version']}.\")"
   ]
  },
  {
   "cell_type": "markdown",
   "metadata": {},
   "source": [
    "## `corpora/`: List available corpora \n",
    "\n",
    "With the extension `corpora/` saved in `CORPORA_EXT_PLAIN` we can display the list of corpora available in DraCor. \n",
    "\n",
    "The documentation of this endpoint can be found here: https://dracor.org/doc/api#/public/list-corpora"
   ]
  },
  {
   "cell_type": "code",
   "execution_count": 9,
   "metadata": {},
   "outputs": [
    {
     "name": "stdout",
     "output_type": "stream",
     "text": [
      "URL for getting the list of corpora: https://dracor.org/api/v1/corpora\n",
      "\n",
      "als: Alsatian Drama Corpus\n",
      "am: American Drama Corpus\n",
      "bash: Bashkir Drama Corpus\n",
      "cal: Calderón Drama Corpus\n",
      "dutch: Dutch Drama Corpus\n",
      "eng: English Drama Corpus\n",
      "fre: French Drama Corpus\n",
      "ger: German Drama Corpus\n",
      "gersh: German Shakespeare Drama Corpus\n",
      "greek: Greek Drama Corpus\n",
      "hun: Hungarian Drama Corpus\n",
      "ita: Italian Drama Corpus\n",
      "pol: Polish Drama Corpus\n",
      "rom: Roman Drama Corpus\n",
      "rus: Russian Drama Corpus\n",
      "shake: Shakespeare Drama Corpus\n",
      "span: Spanish Drama Corpus\n",
      "swe: Swedish Drama Corpus\n",
      "tat: Tatar Drama Corpus\n",
      "u: Ukrainian Drama Corpus\n",
      "yi: Yiddish Drama Corpus\n"
     ]
    }
   ],
   "source": [
    "# save \"corpora\" parameter in variable\n",
    "CORPORA_EXT_PLAIN = \"corpora\"\n",
    "# add parameter to base URL to get information about the DraCor corpora \n",
    "api_corpora_url = API_URL + CORPORA_EXT_PLAIN\n",
    "print(f\"URL for getting the list of corpora: {api_corpora_url}\\n\")\n",
    "\n",
    "# perform API request\n",
    "# parse response with .json\n",
    "corpus_list = requests.get(api_corpora_url).json()\n",
    "\n",
    "#save corpus abbreviations in a list for later checking \n",
    "corpus_abbreviations = []\n",
    "\n",
    "# iterate through corpus list and print information\n",
    "for corpus_description in corpus_list:\n",
    "    name = corpus_description[\"name\"]\n",
    "    print(f'{name}: {corpus_description[\"title\"]}')\n",
    "    corpus_abbreviations.append(name)"
   ]
  },
  {
   "cell_type": "markdown",
   "metadata": {},
   "source": [
    "### Include corpora metrics\n",
    "To not only get the abbreviation and the name of corpora but also information about the number of speakers, the word count etc. we can change our API call so that these metrics are included in the response. We can do so by \n",
    "* adding a `?` to indicate that we will pass a key-value pair to the API\n",
    "* add the key-value pair like this `include=metrics`"
   ]
  },
  {
   "cell_type": "code",
   "execution_count": 10,
   "metadata": {},
   "outputs": [
    {
     "name": "stdout",
     "output_type": "stream",
     "text": [
      "URL for getting the list of corpora with metrics included: https://dracor.org/api/v1/corpora?include=metrics\n",
      "\n",
      "Abbreviation: Corpus Name (Number of plays)\n",
      "als: Alsatian Drama Corpus (30)\n",
      "am: American Drama Corpus (40)\n",
      "bash: Bashkir Drama Corpus (3)\n",
      "cal: Calderón Drama Corpus (205)\n",
      "dutch: Dutch Drama Corpus (180)\n",
      "eng: English Drama Corpus (434)\n",
      "fre: French Drama Corpus (1940)\n",
      "ger: German Drama Corpus (715)\n",
      "gersh: German Shakespeare Drama Corpus (38)\n",
      "greek: Greek Drama Corpus (40)\n",
      "hun: Hungarian Drama Corpus (74)\n",
      "ita: Italian Drama Corpus (139)\n",
      "pol: Polish Drama Corpus (50)\n",
      "rom: Roman Drama Corpus (36)\n",
      "rus: Russian Drama Corpus (212)\n",
      "shake: Shakespeare Drama Corpus (37)\n",
      "span: Spanish Drama Corpus (25)\n",
      "swe: Swedish Drama Corpus (68)\n",
      "tat: Tatar Drama Corpus (3)\n",
      "u: Ukrainian Drama Corpus (40)\n",
      "yi: Yiddish Drama Corpus (3)\n"
     ]
    },
    {
     "data": {
      "image/png": "[encoded data removed]",
      "text/plain": [
       "<Figure size 1000x600 with 1 Axes>"
      ]
     },
     "metadata": {},
     "output_type": "display_data"
    }
   ],
   "source": [
    "import requests\n",
    "import matplotlib.pyplot as plt\n",
    "\n",
    "# Define URL parameters\n",
    "METRICS_PARAM_EXT = \"?include=metrics\"\n",
    "api_corpora_metrics_urls = api_corpora_url + METRICS_PARAM_EXT\n",
    "print(f\"URL for getting the list of corpora with metrics included: {api_corpora_metrics_urls}\\n\")\n",
    "\n",
    "# Perform API request\n",
    "corpora_metrics = requests.get(api_corpora_metrics_urls).json()\n",
    "\n",
    "# Initialize a list to store tuples of (abbreviation, number of plays)\n",
    "data = []\n",
    "\n",
    "# Iterate through corpus list, print information, and collect data\n",
    "print(\"Abbreviation: Corpus Name (Number of plays)\")\n",
    "for corpus in corpora_metrics:\n",
    "    abbreviation = corpus['name']\n",
    "    num_of_plays = corpus['metrics']['plays']\n",
    "    data.append((abbreviation, num_of_plays))\n",
    "    print(f\"{abbreviation}: {corpus['title']} ({num_of_plays})\")\n",
    "\n",
    "# Sort data from more to less plays (descending order)\n",
    "data_sorted = sorted(data, key=lambda x: x[1], reverse=True)\n",
    "\n",
    "# Unpack sorted data into two lists for plotting\n",
    "sorted_abbreviations, sorted_plays = zip(*data_sorted)\n",
    "\n",
    "# Plotting the bar chart\n",
    "plt.figure(figsize=(10, 6))\n",
    "plt.bar(sorted_abbreviations, sorted_plays, color='skyblue')\n",
    "plt.xlabel('Corpus Abbreviation')\n",
    "plt.ylabel('Number of Plays')\n",
    "plt.title('Number of Plays per Corpus (Sorted Descending)')\n",
    "plt.xticks(rotation=45)\n",
    "plt.tight_layout()  # Adjust layout to prevent label cutoff\n",
    "\n",
    "# Save the graph as a JPEG file\n",
    "plt.savefig(\"corpora_plays.jpg\", format=\"jpg\")\n",
    "\n",
    "# Display the plot\n",
    "plt.show()\n"
   ]
  },
  {
   "cell_type": "markdown",
   "metadata": {},
   "source": [
    "## 2. API calls with selected parameters\n",
    "To get more information than included in the corpus metrics for a specific corpus, we first need to select a corpus from the list above. "
   ]
  },
  {
   "cell_type": "markdown",
   "metadata": {},
   "source": [
    "###  1. Choose a  `corpusname/`\n",
    "To choose a corpus in the field below, type the abbreviation of the corpus as listed above.\n",
    "The name you choose is saved in the variable `corpusname`.\n",
    "\n",
    "The documentation of this endpoint can be found here: https://dracor.org/doc/api#/public/list-corpus-content"
   ]
  },
  {
   "cell_type": "code",
   "execution_count": 11,
   "metadata": {
    "editable": true,
    "slideshow": {
     "slide_type": ""
    },
    "tags": []
   },
   "outputs": [],
   "source": [
    "# Choose a corpus \n",
    "# to use the interactive mode in Jupyter Lab change the type of the following cell to \"Code\"\n",
    "# The cell is not included in the HTML rendering\n",
    "\n",
    "corpusname = \"cal\""
   ]
  },
  {
   "cell_type": "markdown",
   "metadata": {
    "editable": true,
    "slideshow": {
     "slide_type": ""
    },
    "tags": [
     "remove-cell"
    ]
   },
   "source": [
    "for i in range(10):\n",
    "    # get corpusname with user input\n",
    "    # save corpusname in variable\n",
    "    corpusname = str(input(\"Please choose a corpusname from the list above. Enter the abbreviation: \"))\n",
    "    if corpusname not in corpus_abbreviations:\n",
    "        print(\"The abbreviation you selected is not in the list. Please enter the abbreviation again.\")\n",
    "    else:\n",
    "        print(\"Success!\")\n",
    "        break\n",
    "else:\n",
    "    corpusname = \"swe\""
   ]
  },
  {
   "cell_type": "code",
   "execution_count": 12,
   "metadata": {
    "editable": true,
    "slideshow": {
     "slide_type": ""
    },
    "tags": []
   },
   "outputs": [
    {
     "name": "stdout",
     "output_type": "stream",
     "text": [
      "URL for getting the metadata of a specific corpus: https://dracor.org/api/v1/corpora/cal/metadata\n",
      "\n"
     ]
    }
   ],
   "source": [
    "# save corpora parameter (with slash) and metadata parameter in variables\n",
    "CORPORA_EXT = \"corpora/\"\n",
    "METADAT_EXT = \"/metadata\"\n",
    "\n",
    "# build URL\n",
    "corpus_metadata_path = API_URL + CORPORA_EXT + corpusname + METADAT_EXT\n",
    "print(f\"URL for getting the metadata of a specific corpus: {corpus_metadata_path}\\n\")\n",
    "\n",
    "\n",
    "# perform request\n",
    "metadata_file = requests.get(corpus_metadata_path, headers={\"accept\": \"text/csv\"}, stream=True)\n",
    "metadata_file.raw.decode_content=True\n",
    "\n",
    "# read metadata to DataFrame\n",
    "metadata_df = pd.read_csv(metadata_file.raw, sep=\",\", encoding=\"utf-8\")"
   ]
  },
  {
   "cell_type": "markdown",
   "metadata": {},
   "source": [
    "### Inspect metadata"
   ]
  },
  {
   "cell_type": "code",
   "execution_count": 13,
   "metadata": {
    "scrolled": true
   },
   "outputs": [
    {
     "name": "stdout",
     "output_type": "stream",
     "text": [
      "Metadata saved to corpus_metadata.csv\n"
     ]
    }
   ],
   "source": [
    "# display first five lines of the retrieved metadata \n",
    "metadata_df.head()\n",
    "\n",
    "# Save the DataFrame to a CSV file\n",
    "metadata_df.to_csv(\"corpus_metadata.csv\", index=False)\n",
    "print(\"Metadata saved to corpus_metadata.csv\")"
   ]
  },
  {
   "cell_type": "markdown",
   "metadata": {},
   "source": [
    "Look at information available in the metadata "
   ]
  },
  {
   "cell_type": "code",
   "execution_count": 14,
   "metadata": {},
   "outputs": [
    {
     "data": {
      "text/plain": [
       "Index(['name', 'id', 'wikidataId', 'firstAuthor', 'numOfCoAuthors', 'title',\n",
       "       'subtitle', 'normalizedGenre', 'digitalSource',\n",
       "       'originalSourcePublisher', 'originalSourcePubPlace',\n",
       "       'originalSourceYear', 'originalSourceNumberOfPages', 'yearNormalized',\n",
       "       'size', 'libretto', 'averageClustering', 'density', 'averagePathLength',\n",
       "       'maxDegreeIds', 'averageDegree', 'diameter', 'datePremiered',\n",
       "       'yearPremiered', 'yearPrinted', 'maxDegree', 'numOfSpeakers',\n",
       "       'numOfSpeakersFemale', 'numOfSpeakersMale', 'numOfSpeakersUnknown',\n",
       "       'numOfPersonGroups', 'numConnectedComponents', 'numEdges',\n",
       "       'yearWritten', 'numOfSegments', 'wikipediaLinkCount', 'numOfActs',\n",
       "       'wordCountText', 'wordCountSp', 'wordCountStage', 'numOfP', 'numOfL'],\n",
       "      dtype='object')"
      ]
     },
     "execution_count": 14,
     "metadata": {},
     "output_type": "execute_result"
    }
   ],
   "source": [
    "# print column names available in meta data \n",
    "metadata_df.columns"
   ]
  },
  {
   "cell_type": "markdown",
   "metadata": {},
   "source": [
    "### 3. What to do with the metadata - Examples\n",
    "\n",
    "The library pandas allows us to plot selected columns against each other. If we want to see if one parameter e.g. the number of characters (as in 1) develops over time, we can set the x-axis to the years the plays were created (\"yearNormalized) and the y-axis to the number of characters (\"size\") in the play. \n",
    "\n",
    "The documentation of the `plot` function can be found here: https://pandas.pydata.org/docs/reference/api/pandas.DataFrame.plot.html\n",
    "\n",
    "1. Plot the number of characters (\"size\") in the plays over time (\"yearNormalized\")\n",
    "\n",
    "2. Plot the length of the play (\"wordCountText\") over time (\"yearNormalized\")\n",
    "\n",
    "3. Get the five longest plays\n",
    "    * sort plays by \"wordCountText\"\n",
    "    * show first five\n",
    "    \n",
    "4. Get number of plays published after 1800 and before 1900\n",
    "    * filter: \"yearNormalized\"\n",
    "    * filter-value: 1800 and 1900\n",
    "    * filter-operation: > and <\n",
    "    \n",
    "5. Plot development of the length of stage descriptions\n",
    "    * filter: 'wordCountStage'\n",
    "    * calculate percentage of stage directions in relation to wordcount in new column\n",
    "    * plot by time \n",
    "    \n",
    "6. Plot the relation of female speakers over time \n",
    "    * filter: 'numOfSpeakers', 'numOfSpeakersFemale'\n",
    "    * calculate percentage of female speakers\n",
    "    * plot by time   "
   ]
  },
  {
   "cell_type": "code",
   "execution_count": 15,
   "metadata": {},
   "outputs": [
    {
     "data": {
      "image/png": "[encoded data removed]",
      "text/plain": [
       "<Figure size 640x480 with 1 Axes>"
      ]
     },
     "metadata": {},
     "output_type": "display_data"
    }
   ],
   "source": [
    "import matplotlib.pyplot as plt\n",
    "\n",
    "# Plot the scatter chart using the DataFrame's built-in plot function\n",
    "ax = metadata_df.plot(x=\"yearNormalized\", y=\"size\", kind=\"scatter\")\n",
    "\n",
    "# Set custom axis labels\n",
    "ax.set_xlabel(\"Year Normalized\")\n",
    "ax.set_ylabel(\"Number of characters\")\n",
    "\n",
    "# Save the figure as a JPEG file before showing it\n",
    "plt.savefig(\"characters_vs_year.jpg\", format=\"jpg\")\n",
    "\n",
    "# Display the plot\n",
    "plt.show()\n"
   ]
  },
  {
   "cell_type": "code",
   "execution_count": 31,
   "metadata": {},
   "outputs": [
    {
     "data": {
      "image/png": "[encoded data removed]",
      "text/plain": [
       "<Figure size 640x480 with 1 Axes>"
      ]
     },
     "metadata": {},
     "output_type": "display_data"
    }
   ],
   "source": [
    "import matplotlib.pyplot as plt\n",
    "\n",
    "# Create the scatter plot\n",
    "ax = metadata_df.plot(x=\"yearNormalized\", y=\"wordCountText\", kind=\"scatter\")\n",
    "\n",
    "# Set custom axis labels for normalized values\n",
    "ax.set_xlabel(\"Normalized Year\")\n",
    "ax.set_ylabel(\"Word Count\")\n",
    "ax.set_title(\"Play Length in Words by Normalized Year\")\n",
    "\n",
    "# Adjust the layout to ensure labels and title fit\n",
    "plt.tight_layout()\n",
    "\n",
    "# Save the graph as a JPEG file\n",
    "plt.savefig(\"play_length_by_year.jpg\", format=\"jpg\")\n",
    "\n",
    "# Display the plot\n",
    "plt.show()\n"
   ]
  },
  {
   "cell_type": "code",
   "execution_count": 16,
   "metadata": {},
   "outputs": [
    {
     "data": {
      "text/html": [
       "<div>\n",
       "<style scoped>\n",
       "    .dataframe tbody tr th:only-of-type {\n",
       "        vertical-align: middle;\n",
       "    }\n",
       "\n",
       "    .dataframe tbody tr th {\n",
       "        vertical-align: top;\n",
       "    }\n",
       "\n",
       "    .dataframe thead th {\n",
       "        text-align: right;\n",
       "    }\n",
       "</style>\n",
       "<table border=\"1\" class=\"dataframe\">\n",
       "  <thead>\n",
       "    <tr style=\"text-align: right;\">\n",
       "      <th></th>\n",
       "      <th>name</th>\n",
       "      <th>id</th>\n",
       "      <th>wikidataId</th>\n",
       "      <th>firstAuthor</th>\n",
       "      <th>numOfCoAuthors</th>\n",
       "      <th>title</th>\n",
       "      <th>subtitle</th>\n",
       "      <th>normalizedGenre</th>\n",
       "      <th>digitalSource</th>\n",
       "      <th>originalSourcePublisher</th>\n",
       "      <th>...</th>\n",
       "      <th>numEdges</th>\n",
       "      <th>yearWritten</th>\n",
       "      <th>numOfSegments</th>\n",
       "      <th>wikipediaLinkCount</th>\n",
       "      <th>numOfActs</th>\n",
       "      <th>wordCountText</th>\n",
       "      <th>wordCountSp</th>\n",
       "      <th>wordCountStage</th>\n",
       "      <th>numOfP</th>\n",
       "      <th>numOfL</th>\n",
       "    </tr>\n",
       "  </thead>\n",
       "  <tbody>\n",
       "    <tr>\n",
       "      <th>108</th>\n",
       "      <td>hado-y-divisa-de-leonido-y-marfisa</td>\n",
       "      <td>cal000109</td>\n",
       "      <td>NaN</td>\n",
       "      <td>Calderón</td>\n",
       "      <td>0</td>\n",
       "      <td>Hado y divisa de Leonido y Marfisa</td>\n",
       "      <td>NaN</td>\n",
       "      <td>NaN</td>\n",
       "      <td>NaN</td>\n",
       "      <td>NaN</td>\n",
       "      <td>...</td>\n",
       "      <td>136</td>\n",
       "      <td>1680</td>\n",
       "      <td>87</td>\n",
       "      <td>NaN</td>\n",
       "      <td>3</td>\n",
       "      <td>26037</td>\n",
       "      <td>25090</td>\n",
       "      <td>1122</td>\n",
       "      <td>0</td>\n",
       "      <td>5172</td>\n",
       "    </tr>\n",
       "    <tr>\n",
       "      <th>14</th>\n",
       "      <td>auristela-y-lisidante</td>\n",
       "      <td>cal000063</td>\n",
       "      <td>NaN</td>\n",
       "      <td>Calderón</td>\n",
       "      <td>0</td>\n",
       "      <td>Auristela y Lisidante</td>\n",
       "      <td>La Gran Comedia. Fiesta Que Se Representó A Su...</td>\n",
       "      <td>NaN</td>\n",
       "      <td>NaN</td>\n",
       "      <td>NaN</td>\n",
       "      <td>...</td>\n",
       "      <td>254</td>\n",
       "      <td>NaN</td>\n",
       "      <td>77</td>\n",
       "      <td>NaN</td>\n",
       "      <td>3</td>\n",
       "      <td>23529</td>\n",
       "      <td>22907</td>\n",
       "      <td>749</td>\n",
       "      <td>0</td>\n",
       "      <td>4735</td>\n",
       "    </tr>\n",
       "    <tr>\n",
       "      <th>156</th>\n",
       "      <td>las-manos-blancas-no-ofenden</td>\n",
       "      <td>cal000127</td>\n",
       "      <td>NaN</td>\n",
       "      <td>Calderón</td>\n",
       "      <td>0</td>\n",
       "      <td>Las manos blancas no ofenden</td>\n",
       "      <td>Comedia Famosa</td>\n",
       "      <td>NaN</td>\n",
       "      <td>NaN</td>\n",
       "      <td>NaN</td>\n",
       "      <td>...</td>\n",
       "      <td>105</td>\n",
       "      <td>1640</td>\n",
       "      <td>80</td>\n",
       "      <td>NaN</td>\n",
       "      <td>3</td>\n",
       "      <td>23364</td>\n",
       "      <td>22867</td>\n",
       "      <td>516</td>\n",
       "      <td>0</td>\n",
       "      <td>4760</td>\n",
       "    </tr>\n",
       "    <tr>\n",
       "      <th>27</th>\n",
       "      <td>dicha-y-desdicha-del-nombre</td>\n",
       "      <td>cal000074</td>\n",
       "      <td>NaN</td>\n",
       "      <td>Calderón</td>\n",
       "      <td>0</td>\n",
       "      <td>Dicha y desdicha del nombre</td>\n",
       "      <td>Comedia Famosa</td>\n",
       "      <td>NaN</td>\n",
       "      <td>NaN</td>\n",
       "      <td>NaN</td>\n",
       "      <td>...</td>\n",
       "      <td>89</td>\n",
       "      <td>NaN</td>\n",
       "      <td>108</td>\n",
       "      <td>NaN</td>\n",
       "      <td>3</td>\n",
       "      <td>22918</td>\n",
       "      <td>22384</td>\n",
       "      <td>661</td>\n",
       "      <td>0</td>\n",
       "      <td>4588</td>\n",
       "    </tr>\n",
       "    <tr>\n",
       "      <th>121</th>\n",
       "      <td>la-fiera-el-rayo-y-la-piedra</td>\n",
       "      <td>cal000028</td>\n",
       "      <td>Q5966696</td>\n",
       "      <td>Calderón</td>\n",
       "      <td>0</td>\n",
       "      <td>La fiera, el rayo y la piedra</td>\n",
       "      <td>NaN</td>\n",
       "      <td>NaN</td>\n",
       "      <td>http://www.cervantesvirtual.com/obra-visor/la-...</td>\n",
       "      <td>NaN</td>\n",
       "      <td>...</td>\n",
       "      <td>199</td>\n",
       "      <td>1652</td>\n",
       "      <td>91</td>\n",
       "      <td>1.0</td>\n",
       "      <td>3</td>\n",
       "      <td>22809</td>\n",
       "      <td>22210</td>\n",
       "      <td>601</td>\n",
       "      <td>0</td>\n",
       "      <td>4551</td>\n",
       "    </tr>\n",
       "  </tbody>\n",
       "</table>\n",
       "<p>5 rows × 42 columns</p>\n",
       "</div>"
      ],
      "text/plain": [
       "                                   name         id wikidataId firstAuthor  \\\n",
       "108  hado-y-divisa-de-leonido-y-marfisa  cal000109        NaN    Calderón   \n",
       "14                auristela-y-lisidante  cal000063        NaN    Calderón   \n",
       "156        las-manos-blancas-no-ofenden  cal000127        NaN    Calderón   \n",
       "27          dicha-y-desdicha-del-nombre  cal000074        NaN    Calderón   \n",
       "121        la-fiera-el-rayo-y-la-piedra  cal000028   Q5966696    Calderón   \n",
       "\n",
       "     numOfCoAuthors                               title  \\\n",
       "108               0  Hado y divisa de Leonido y Marfisa   \n",
       "14                0               Auristela y Lisidante   \n",
       "156               0        Las manos blancas no ofenden   \n",
       "27                0         Dicha y desdicha del nombre   \n",
       "121               0       La fiera, el rayo y la piedra   \n",
       "\n",
       "                                              subtitle  normalizedGenre  \\\n",
       "108                                                NaN              NaN   \n",
       "14   La Gran Comedia. Fiesta Que Se Representó A Su...              NaN   \n",
       "156                                     Comedia Famosa              NaN   \n",
       "27                                      Comedia Famosa              NaN   \n",
       "121                                                NaN              NaN   \n",
       "\n",
       "                                         digitalSource  \\\n",
       "108                                                NaN   \n",
       "14                                                 NaN   \n",
       "156                                                NaN   \n",
       "27                                                 NaN   \n",
       "121  http://www.cervantesvirtual.com/obra-visor/la-...   \n",
       "\n",
       "     originalSourcePublisher  ...  numEdges  yearWritten  numOfSegments  \\\n",
       "108                      NaN  ...       136         1680             87   \n",
       "14                       NaN  ...       254          NaN             77   \n",
       "156                      NaN  ...       105         1640             80   \n",
       "27                       NaN  ...        89          NaN            108   \n",
       "121                      NaN  ...       199         1652             91   \n",
       "\n",
       "     wikipediaLinkCount  numOfActs  wordCountText  wordCountSp  \\\n",
       "108                 NaN          3          26037        25090   \n",
       "14                  NaN          3          23529        22907   \n",
       "156                 NaN          3          23364        22867   \n",
       "27                  NaN          3          22918        22384   \n",
       "121                 1.0          3          22809        22210   \n",
       "\n",
       "     wordCountStage  numOfP numOfL  \n",
       "108            1122       0   5172  \n",
       "14              749       0   4735  \n",
       "156             516       0   4760  \n",
       "27              661       0   4588  \n",
       "121             601       0   4551  \n",
       "\n",
       "[5 rows x 42 columns]"
      ]
     },
     "execution_count": 16,
     "metadata": {},
     "output_type": "execute_result"
    }
   ],
   "source": [
    "# 3. Sort plays by wordcount, show first 5 entries\n",
    "metadata_by_length = metadata_df.sort_values(by=\"wordCountText\", axis=0, ascending=False)\n",
    "\n",
    "# get the first five entries \n",
    "metadata_by_length[0:5]"
   ]
  },
  {
   "cell_type": "code",
   "execution_count": 17,
   "metadata": {},
   "outputs": [
    {
     "name": "stdout",
     "output_type": "stream",
     "text": [
      "Number of plays in the selected time period: 172\n"
     ]
    }
   ],
   "source": [
    "# 4. Get number of plays between 1620 and 1680 \n",
    "num_of_plays = len(metadata_df[(metadata_df[\"yearNormalized\"] > 1620) & (metadata_df[\"yearNormalized\"] < 1681)])\n",
    "print(f\"Number of plays in the selected time period: {num_of_plays}\")"
   ]
  },
  {
   "cell_type": "code",
   "execution_count": 18,
   "metadata": {},
   "outputs": [
    {
     "data": {
      "image/png": "[encoded data removed]",
      "text/plain": [
       "<Figure size 640x480 with 1 Axes>"
      ]
     },
     "metadata": {},
     "output_type": "display_data"
    }
   ],
   "source": [
    "import matplotlib.pyplot as plt\n",
    "\n",
    "# Calculate percentage of tokens in stage directions in relation to all tokens\n",
    "stage_percentage = metadata_df[\"wordCountStage\"] / metadata_df[\"wordCountText\"]\n",
    "metadata_df[\"wordCountStagePercentage\"] = stage_percentage\n",
    "\n",
    "# Create the scatter plot\n",
    "ax = metadata_df.plot(x=\"yearNormalized\", y=\"wordCountStagePercentage\", kind=\"scatter\")\n",
    "\n",
    "# Optionally, customize axis labels\n",
    "ax.set_xlabel(\"Year Normalized\")\n",
    "ax.set_ylabel(\"Stage Directions Percentage\")\n",
    "ax.set_title(\"Percentage of Tokens in Stage Directions Over Time\")\n",
    "\n",
    "# Adjust layout to ensure everything fits\n",
    "plt.tight_layout()\n",
    "\n",
    "# Save the graph as a JPEG file\n",
    "plt.savefig(\"stage_directions_percentage.jpg\", format=\"jpg\")\n",
    "\n",
    "# Display the plot\n",
    "plt.show()\n"
   ]
  },
  {
   "cell_type": "code",
   "execution_count": 52,
   "metadata": {},
   "outputs": [
    {
     "data": {
      "image/png": "[encoded data removed]",
      "text/plain": [
       "<Figure size 640x480 with 1 Axes>"
      ]
     },
     "metadata": {},
     "output_type": "display_data"
    },
    {
     "name": "stdout",
     "output_type": "stream",
     "text": [
      "Results saved to female_speakers_percentage.csv\n"
     ]
    }
   ],
   "source": [
    "import matplotlib.pyplot as plt\n",
    "\n",
    "# Calculate the percentage of female speakers\n",
    "speakers_total = metadata_df[\"numOfSpeakers\"]\n",
    "metadata_df[\"numOfSpeakersFemalePercentage\"] = metadata_df[\"numOfSpeakersFemale\"] / speakers_total\n",
    "\n",
    "# Create the scatter plot\n",
    "ax = metadata_df.plot(x=\"yearNormalized\", y=\"numOfSpeakersFemalePercentage\", kind=\"scatter\")\n",
    "\n",
    "# Customize the plot\n",
    "ax.set_xlabel(\"Year Normalized\")\n",
    "ax.set_ylabel(\"Female Speakers Percentage\")\n",
    "ax.set_title(\"Female Speakers Percentage Over Time\")\n",
    "plt.tight_layout()\n",
    "\n",
    "# Save the graph as a JPEG file\n",
    "plt.savefig(\"female_speakers_percentage.jpg\", format=\"jpg\")\n",
    "plt.show()\n",
    "\n",
    "# Create a results DataFrame with the title included\n",
    "results_df = metadata_df[[\"yearNormalized\", \"title\", \"numOfSpeakersFemalePercentage\"]]\n",
    "\n",
    "# Save the results to a CSV file\n",
    "results_df.to_csv(\"female_speakers_percentage.csv\", index=False)\n",
    "print(\"Results saved to female_speakers_percentage.csv\")\n"
   ]
  },
  {
   "cell_type": "markdown",
   "metadata": {},
   "source": [
    "## 3.  `play/`: Select text\n",
    "The API also allows us to load single texts or abstract representation such as network data of single texts.\n",
    "For this we need to extend the URL by the parameter `play/`, followed by the name of the play as listed in metadata. This will give us:\n",
    "* metadata of the play\n",
    "* network data to the play\n",
    "* speaker list\n",
    "* division into scenes and the appearing speakers\n",
    "\n",
    "The documentation of this endpoint can be found here: https://dracor.org/doc/api#/public/play-info"
   ]
  },
  {
   "cell_type": "code",
   "execution_count": 53,
   "metadata": {
    "editable": true,
    "slideshow": {
     "slide_type": ""
    },
    "tags": []
   },
   "outputs": [],
   "source": [
    "# save play parameter in variable\n",
    "PLAY_EXT = \"/plays/\""
   ]
  },
  {
   "cell_type": "code",
   "execution_count": 70,
   "metadata": {
    "editable": true,
    "slideshow": {
     "slide_type": ""
    },
    "tags": []
   },
   "outputs": [],
   "source": [
    "# Choose a play \n",
    "# to use the interactive mode in Jupyter Lab change the type of the following cell to \"Code\"\n",
    "# The cell is not included in the HTML rendering\n",
    "\n",
    "play_name = \"la-vida-es-sueno\""
   ]
  },
  {
   "cell_type": "markdown",
   "metadata": {
    "editable": true,
    "slideshow": {
     "slide_type": ""
    },
    "tags": [
     "remove-cell"
    ]
   },
   "source": [
    "# save column name in which the play names are stored in a variable \n",
    "PLAY_KEY = \"name\"\n",
    "for i in range(10):\n",
    "    # get play name with user input\n",
    "    # save play name in variable\n",
    "    play_name = str(input(\"Please choose a text from the corpus you have chosen. Enter the text name: \"))\n",
    "    if play_name not in metadata_df[PLAY_KEY].values:\n",
    "        print(\"The name you selected is not in the list. Please enter the name again.\")\n",
    "    else:\n",
    "        print(\"Success!\")\n",
    "        break\n",
    "else:\n",
    "    play_name = \"strindberg-gillets-hemlighet\""
   ]
  },
  {
   "cell_type": "code",
   "execution_count": 71,
   "metadata": {},
   "outputs": [
    {
     "name": "stdout",
     "output_type": "stream",
     "text": [
      "URL for getting information of a specific play: https://dracor.org/api/v1/corpora/cal/plays/la-vida-es-sueno\n",
      "\n",
      "Character list\n",
      "['Rosaura', 'Clarín', 'Segismundo', 'Clotaldo', 'Soldados', 'Astolfo', 'Estrella', 'Basilio', 'Criado 2', 'Criado 1', 'Soldado 1', 'Soldado 2', 'Guardas']\n"
     ]
    }
   ],
   "source": [
    "# build URL\n",
    "play_path = API_URL + CORPORA_EXT + corpusname + PLAY_EXT + play_name\n",
    "print(f\"URL for getting information of a specific play: {play_path}\\n\")\n",
    "\n",
    "# perform request\n",
    "play_info = requests.get(play_path).json()\n",
    "\n",
    "# extract character names\n",
    "character_names = [entry[\"name\"] for entry in play_info[\"characters\"]]\n",
    "print(\"Character list\")\n",
    "print(character_names)"
   ]
  },
  {
   "cell_type": "markdown",
   "metadata": {},
   "source": [
    "### Exercise\n",
    "* How else could we get the characters of the play? Is there a more specific API call if we only want that information?"
   ]
  },
  {
   "cell_type": "code",
   "execution_count": 77,
   "metadata": {},
   "outputs": [
    {
     "name": "stdout",
     "output_type": "stream",
     "text": [
      "https://dracor.org/api/v1/\n",
      "corpora/\n",
      "cal\n",
      "/plays/\n",
      "la-vida-es-sueno\n",
      "Combined the URL looks like this: https://dracor.org/api/v1/corpora/cal/plays/la-vida-es-sueno\n"
     ]
    }
   ],
   "source": [
    "# API call for getting a specific play is saved in the variable `play_path`\n",
    "# This is it consists of \n",
    "print(API_URL)\n",
    "print(CORPORA_EXT)\n",
    "print(corpusname)\n",
    "print(PLAY_EXT)\n",
    "print(play_name)\n",
    "print(f\"Combined the URL looks like this: {play_path}\")"
   ]
  },
  {
   "cell_type": "code",
   "execution_count": 73,
   "metadata": {
    "editable": true,
    "slideshow": {
     "slide_type": ""
    },
    "tags": []
   },
   "outputs": [
    {
     "name": "stdout",
     "output_type": "stream",
     "text": [
      "Success! Here is the output:\n",
      "[{'id': 'rosaura', 'name': 'Rosaura', 'isGroup': False, 'gender': 'FEMALE', 'numOfScenes': 18, 'numOfSpeechActs': 92, 'numOfWords': 3487, 'degree': 9, 'weightedDegree': 33, 'closeness': 0.8, 'betweenness': 0, 'eigenvector': 0.22866514881148553}, {'id': 'clarín', 'name': 'Clarín', 'isGroup': False, 'gender': 'MALE', 'numOfScenes': 18, 'numOfSpeechActs': 55, 'numOfWords': 1311, 'degree': 12, 'weightedDegree': 54, 'closeness': 1, 'betweenness': 0.00883838383838384, 'eigenvector': 0.2919729553320794}, {'id': 'segismundo', 'name': 'Segismundo', 'isGroup': False, 'gender': 'MALE', 'numOfScenes': 25, 'numOfSpeechActs': 89, 'numOfWords': 4256, 'degree': 12, 'weightedDegree': 59, 'closeness': 1, 'betweenness': 0.00883838383838384, 'eigenvector': 0.2919729553320794}, {'id': 'clotaldo', 'name': 'Clotaldo', 'isGroup': False, 'gender': 'MALE', 'numOfScenes': 20, 'numOfSpeechActs': 96, 'numOfWords': 2719, 'degree': 12, 'weightedDegree': 50, 'closeness': 1, 'betweenness': 0.00883838383838384, 'eigenvector': 0.2919729553320794}, {'id': 'soldados', 'name': 'Soldados', 'isGroup': True, 'gender': 'MALE', 'numOfScenes': 4, 'numOfSpeechActs': 2, 'numOfWords': 19, 'degree': 12, 'weightedDegree': 24, 'closeness': 1, 'betweenness': 0.00883838383838384, 'eigenvector': 0.2919729553320794}, {'id': 'astolfo', 'name': 'Astolfo', 'isGroup': False, 'gender': 'MALE', 'numOfScenes': 17, 'numOfSpeechActs': 45, 'numOfWords': 1150, 'degree': 12, 'weightedDegree': 40, 'closeness': 1, 'betweenness': 0.00883838383838384, 'eigenvector': 0.2919729553320794}, {'id': 'estrella', 'name': 'Estrella', 'isGroup': False, 'gender': 'FEMALE', 'numOfScenes': 12, 'numOfSpeechActs': 28, 'numOfWords': 662, 'degree': 10, 'weightedDegree': 25, 'closeness': 0.8571428571428571, 'betweenness': 0.0016835016835016834, 'eigenvector': 0.250871119872442}, {'id': 'basilio', 'name': 'Basilio', 'isGroup': False, 'gender': 'MALE', 'numOfScenes': 12, 'numOfSpeechActs': 40, 'numOfWords': 2386, 'degree': 12, 'weightedDegree': 33, 'closeness': 1, 'betweenness': 0.00883838383838384, 'eigenvector': 0.2919729553320794}, {'id': 'criado-2', 'name': 'Criado 2', 'isGroup': False, 'gender': 'MALE', 'numOfScenes': 6, 'numOfSpeechActs': 14, 'numOfWords': 125, 'degree': 11, 'weightedDegree': 28, 'closeness': 0.9230769230769231, 'betweenness': 0.003367003367003367, 'eigenvector': 0.2734003865896473}, {'id': 'criado-1', 'name': 'Criado 1', 'isGroup': False, 'gender': 'MALE', 'numOfScenes': 5, 'numOfSpeechActs': 5, 'numOfWords': 39, 'degree': 10, 'weightedDegree': 26, 'closeness': 0.8571428571428571, 'betweenness': 0, 'eigenvector': 0.25302421463450064}, {'id': 'soldado-1', 'name': 'Soldado 1', 'isGroup': False, 'gender': 'MALE', 'numOfScenes': 5, 'numOfSpeechActs': 6, 'numOfWords': 220, 'degree': 12, 'weightedDegree': 27, 'closeness': 1, 'betweenness': 0.00883838383838384, 'eigenvector': 0.2919729553320794}, {'id': 'soldado-2', 'name': 'Soldado 2', 'isGroup': False, 'gender': 'MALE', 'numOfScenes': 4, 'numOfSpeechActs': 7, 'numOfWords': 99, 'degree': 12, 'weightedDegree': 26, 'closeness': 1, 'betweenness': 0.00883838383838384, 'eigenvector': 0.2919729553320794}, {'id': 'guardas', 'name': 'Guardas', 'isGroup': True, 'gender': 'MALE', 'numOfScenes': 2, 'numOfSpeechActs': 0, 'numOfWords': 12, 'degree': 10, 'weightedDegree': 15, 'closeness': 0.8571428571428571, 'betweenness': 0, 'eigenvector': 0.25302421463450064}]\n",
      "Results saved to la-vida-es-sueno_characters.csv\n"
     ]
    }
   ],
   "source": [
    "import requests\n",
    "import pandas as pd\n",
    "\n",
    "# Assume play_path and play_name are already defined\n",
    "# For example:\n",
    "# play_path = \"https://api.example.com/plays/some_play\"\n",
    "# play_name = \"Some_Play\"\n",
    "\n",
    "# Construct the URL for character information\n",
    "character_url = play_path + \"/characters\"\n",
    "\n",
    "# Perform the API request\n",
    "character_info = requests.get(character_url)\n",
    "if character_info.status_code != 200:\n",
    "    print(f\"It looks like your URL is not valid. Status code is: {character_info.status_code}\")\n",
    "else:\n",
    "    print(\"Success! Here is the output:\")\n",
    "    data = character_info.json()\n",
    "    print(data)\n",
    "    \n",
    "    # Convert the JSON data to a DataFrame\n",
    "    df = pd.DataFrame(data)\n",
    "    \n",
    "    # Create a file name that includes the play name\n",
    "    # Optionally, you can clean up the play_name to remove spaces or special characters\n",
    "    filename = f\"{play_name}_characters.csv\"\n",
    "    \n",
    "    # Save the DataFrame to a CSV file with the new filename\n",
    "    df.to_csv(filename, index=False)\n",
    "    print(f\"Results saved to {filename}\")\n"
   ]
  },
  {
   "cell_type": "markdown",
   "metadata": {},
   "source": [
    "## Specify single play requests\n",
    "We can specify which information of the play we want to retrieve. We do so by extending the URL by an additional parameter. If for example we want to get the spoken text of the characters, we need to extend the URL by `spoken-text-by-character`.\n",
    "\n",
    "The documentation of this endpoint can be found here: https://dracor.org/doc/api#/public/play-spoken-text-by-character\n",
    "\n",
    "You could also choose other information to retrieve e.g. stage directions and speakers, spoken text only (without the attribution to the speaker) and so on. Just have a look at the API documentation and see what parameters can be added after `{playname}`."
   ]
  },
  {
   "cell_type": "code",
   "execution_count": 82,
   "metadata": {},
   "outputs": [],
   "source": [
    "# save parameter to get more specific data to the selected play in a variable \n",
    "PLAY_SPECIFICATION = \"/spoken-text-by-character\""
   ]
  },
  {
   "cell_type": "code",
   "execution_count": 83,
   "metadata": {},
   "outputs": [
    {
     "name": "stdout",
     "output_type": "stream",
     "text": [
      "URL for getting specified information of a play: https://dracor.org/api/v1/corpora/cal/plays/la-vida-es-sueno/spoken-text-by-character\n",
      "\n"
     ]
    }
   ],
   "source": [
    "# extend play URL \n",
    "play_spec_path = play_path + PLAY_SPECIFICATION\n",
    "print(f\"URL for getting specified information of a play: {play_spec_path}\\n\")\n",
    "\n",
    "# perform request \n",
    "play_spec = requests.get(play_spec_path).json()"
   ]
  },
  {
   "cell_type": "markdown",
   "metadata": {},
   "source": [
    "### Example\n",
    "We can now perform some analyses with the text we retrieved. With just some minor preprocessing (tokenization) we can ask:\n",
    "* Who talks most often about love or guns \n",
    "\n",
    "\n",
    "Since the characters are also annotated with gender with can explore simple gender related questions, such as:\n",
    "* Do men talk more often about swords, guns, weapons?\n",
    "* Do women talk more often about love, roses, children?\n",
    "\n",
    "For this we need to import the natural language toolkit `nltk` (https://www.nltk.org/) or any other NLP library, e.g. spaCy to tokenize the spoken text. We can then calculate the frequencies by character and sum them up by gender. For counting the selected words, we can use the library `collections` (https://docs.python.org/3/library/collections.html)"
   ]
  },
  {
   "cell_type": "code",
   "execution_count": 84,
   "metadata": {},
   "outputs": [
    {
     "name": "stderr",
     "output_type": "stream",
     "text": [
      "[nltk_data] Downloading package punkt to /root/nltk_data...\n",
      "[nltk_data]   Unzipping tokenizers/punkt.zip.\n"
     ]
    },
    {
     "data": {
      "text/plain": [
       "True"
      ]
     },
     "execution_count": 84,
     "metadata": {},
     "output_type": "execute_result"
    }
   ],
   "source": [
    "import nltk\n",
    "from nltk.tokenize import word_tokenize\n",
    "from collections import Counter\n",
    "nltk.download('punkt')"
   ]
  },
  {
   "cell_type": "code",
   "execution_count": 85,
   "metadata": {},
   "outputs": [],
   "source": [
    "# save keyword for a character's text in a variable\n",
    "TEXT_KEY = \"text\"\n",
    "# save new column names in variables\n",
    "ANNO_KEY = \"text annotation\"\n",
    "FRQ_KEY = \"frequencies\"\n",
    "\n",
    "# tokenize and count words\n",
    "# iterate characters\n",
    "for character_entry in play_spec:\n",
    "    # tokenize speech acts\n",
    "    annotation =  [word_tokenize(sen) for sen in character_entry[TEXT_KEY]]\n",
    "    # save tokenized text and word frequencies\n",
    "    character_entry[ANNO_KEY] = [word for sen in annotation for word in sen]\n",
    "    character_entry[FRQ_KEY] = Counter(character_entry[ANNO_KEY])"
   ]
  },
  {
   "cell_type": "markdown",
   "metadata": {},
   "source": [
    "### Create word list\n",
    "Create your list of words below. Each word must be placed in between strings (\"word\") and separated with a comma from the next word."
   ]
  },
  {
   "cell_type": "code",
   "execution_count": 86,
   "metadata": {},
   "outputs": [],
   "source": [
    "word_list = [\"vida\", \"querer\", \"voz\", \"cielo\", \"amor\", \"morir\", \"monte\", \"muerte\", \"sol\", \"mar\"]"
   ]
  },
  {
   "cell_type": "markdown",
   "metadata": {},
   "source": [
    "### Analyze"
   ]
  },
  {
   "cell_type": "code",
   "execution_count": 87,
   "metadata": {},
   "outputs": [
    {
     "name": "stdout",
     "output_type": "stream",
     "text": [
      "Rosaura\n",
      "vida: 15\n",
      "voz: 3\n",
      "cielo: 4\n",
      "amor: 3\n",
      "morir: 1\n",
      "monte: 2\n",
      "muerte: 5\n",
      "sol: 4\n",
      "--------------------------------------------------\n",
      "Clarín\n",
      "vida: 2\n",
      "cielo: 2\n",
      "morir: 2\n",
      "monte: 4\n",
      "muerte: 8\n",
      "sol: 1\n",
      "mar: 2\n",
      "--------------------------------------------------\n",
      "Segismundo\n",
      "vida: 12\n",
      "querer: 1\n",
      "voz: 4\n",
      "cielo: 10\n",
      "amor: 1\n",
      "morir: 2\n",
      "monte: 1\n",
      "muerte: 16\n",
      "sol: 6\n",
      "mar: 2\n",
      "--------------------------------------------------\n",
      "Clotaldo\n",
      "vida: 11\n",
      "voz: 1\n",
      "cielo: 7\n",
      "amor: 2\n",
      "morir: 3\n",
      "muerte: 11\n",
      "--------------------------------------------------\n",
      "None\n",
      "None of the words found in the speech of this character.\n",
      "--------------------------------------------------\n",
      "Astolfo\n",
      "vida: 2\n",
      "voz: 1\n",
      "cielo: 1\n",
      "amor: 1\n",
      "monte: 2\n",
      "sol: 4\n",
      "--------------------------------------------------\n",
      "Estrella\n",
      "vida: 1\n",
      "voz: 1\n",
      "amor: 3\n",
      "sol: 2\n",
      "--------------------------------------------------\n",
      "Basilio\n",
      "vida: 2\n",
      "voz: 1\n",
      "cielo: 6\n",
      "amor: 2\n",
      "morir: 2\n",
      "monte: 2\n",
      "muerte: 7\n",
      "sol: 3\n",
      "mar: 1\n",
      "--------------------------------------------------\n",
      "Criado 2\n",
      "None of the words found in the speech of this character.\n",
      "--------------------------------------------------\n",
      "Criado 1\n",
      "None of the words found in the speech of this character.\n",
      "--------------------------------------------------\n",
      "Soldado 1\n",
      "None of the words found in the speech of this character.\n",
      "--------------------------------------------------\n",
      "Soldado 2\n",
      "monte: 1\n",
      "--------------------------------------------------\n",
      "None\n",
      "None of the words found in the speech of this character.\n",
      "--------------------------------------------------\n"
     ]
    }
   ],
   "source": [
    "# save character name key in a variable\n",
    "NAME_KEY = \"label\"\n",
    "\n",
    "# get frequencies of the words in the word list by character\n",
    "# iterate characters\n",
    "for character_entry in play_spec:\n",
    "    # get character name\n",
    "    print(character_entry[NAME_KEY])\n",
    "    found = False\n",
    "    # for each word in the word list, look up the frequency in the speech of the current character\n",
    "    for word in word_list:\n",
    "        if word in character_entry[FRQ_KEY]:\n",
    "            print(f\"{word}: {character_entry[FRQ_KEY][word]}\")\n",
    "            found = True\n",
    "    if not found:\n",
    "        print(\"None of the words found in the speech of this character.\")\n",
    "    print(\"-\"*50)"
   ]
  },
  {
   "cell_type": "code",
   "execution_count": 88,
   "metadata": {},
   "outputs": [],
   "source": [
    "# save the gender key for the characters in a variable\n",
    "GENDER_KEY = \"gender\"\n",
    "# create results dictionary\n",
    "# for each word the frequency by gender is saved \n",
    "words_by_gender = {word: {\"MALE\": 0, \"FEMALE\": 0, \"UNKNOWN\":0} for word in word_list}\n",
    "\n",
    "# get frequencies of the words in the word list by character\n",
    "# add frequency to the gender of the character\n",
    "\n",
    "# iterate characters\n",
    "for character_entry in play_spec:\n",
    "    # retrieve gender\n",
    "    gender = character_entry[GENDER_KEY]\n",
    "    # for each word in the word list, look up the frequency in the speech of the current character\n",
    "    # add frequency to the gender of the character\n",
    "    for word in word_list:\n",
    "        if word in character_entry[FRQ_KEY]:\n",
    "            if gender in words_by_gender[word]:\n",
    "                words_by_gender[word][gender] += character_entry[FRQ_KEY][word]\n",
    "# convert results dictionary into a DataFrame\n",
    "gender_df = pd.DataFrame(words_by_gender)"
   ]
  },
  {
   "cell_type": "code",
   "execution_count": 89,
   "metadata": {},
   "outputs": [
    {
     "data": {
      "text/plain": [
       "<Axes: >"
      ]
     },
     "execution_count": 89,
     "metadata": {},
     "output_type": "execute_result"
    },
    {
     "data": {
      "image/png": "[encoded data removed]",
      "text/plain": [
       "<Figure size 1200x1000 with 1 Axes>"
      ]
     },
     "metadata": {},
     "output_type": "display_data"
    }
   ],
   "source": [
    "gender_df.plot(kind=\"bar\", figsize=(12,10))"
   ]
  },
  {
   "cell_type": "markdown",
   "metadata": {
    "editable": true,
    "slideshow": {
     "slide_type": ""
    },
    "tags": []
   },
   "source": [
    "## Generic function to handle the requests and parse the result\n",
    "Requesting data from the API in most cases follows a pattern:\n",
    " * construct the request-url. E.g. use `https://dracor.org/api/` as a base and attach `corpusname`, `playname`, a method, e.g. `characters` and in some cases a reponse-format, e.g. `csv`\n",
    " * use this constructed url in a request do the endpoint\n",
    " * retrieve the data and parse to a format, that can be than used in the program\n",
    " \n",
    "By defining a function, this process can be speed up. Instead of repeating the code, a function can be defined, that takes `corpusname`, `playname` and `method` as arguments. In the example we assume, that the response will be JSON."
   ]
  },
  {
   "cell_type": "markdown",
   "metadata": {},
   "source": [
    "Parsing of JSON is done with the package `json` (https://docs.python.org/3/library/json.html), which needs to be imported:"
   ]
  },
  {
   "cell_type": "code",
   "execution_count": 90,
   "metadata": {},
   "outputs": [],
   "source": [
    "import json"
   ]
  },
  {
   "cell_type": "markdown",
   "metadata": {},
   "source": [
    "The function accepts parameters as arguments, e.g. `corpusname=\"ger\"`. Following arguments are supported:\n",
    "\n",
    "* `apibase` (default will be `https://dracor.org/api/`)\n",
    "* `corpusname`\n",
    "* `playname`\n",
    "* `method`\n",
    "* `parse_json`: `True`, `False` (default) – will parse the response as `json`\n"
   ]
  },
  {
   "cell_type": "code",
   "execution_count": 91,
   "metadata": {
    "editable": true,
    "slideshow": {
     "slide_type": ""
    },
    "tags": []
   },
   "outputs": [],
   "source": [
    "#corpusname:str -> []\n",
    "def get(**kwargs):\n",
    "    #corpusname=corpusname\n",
    "    #playname=playname\n",
    "    #apibase=\"https://dracor.org/api/\"\n",
    "    #method=method\n",
    "    #parse_json: True\n",
    "    \n",
    "    #could set different apibase, e.g. https://staging.dracor.org/api/ [not recommended, pls use the production server]\n",
    "    if \"apibase\" in kwargs:\n",
    "        if kwargs[\"apibase\"].endswith(\"/\"):\n",
    "            apibase = kwargs[\"apibase\"]\n",
    "        else:\n",
    "            apibase = kwargs[\"apibase\"] + \"/\"\n",
    "    else:\n",
    "        #use default\n",
    "        apibase = \"https://dracor.org/api/v1/\"\n",
    "    if \"corpusname\" in kwargs and \"playname\" in kwargs:\n",
    "        # used for /api/corpora/{corpusname}/play/{playname}/\n",
    "        if \"method\" in kwargs:\n",
    "            request_url = apibase + \"corpora/\" + kwargs[\"corpusname\"] + \"/plays/\" + kwargs[\"playname\"] + \"/\" + kwargs[\"method\"]\n",
    "        else:\n",
    "            request_url = apibase + \"corpora/\" + kwargs[\"corpusname\"] + \"/plays/\" + kwargs[\"playname\"]\n",
    "    elif \"corpusname\" in kwargs and not \"playname\" in kwargs:\n",
    "        if \"method\" in kwargs:\n",
    "            request_url = apibase + \"corpora/\" + kwargs[\"corpusname\"] + \"/\" + kwargs[\"method\"]\n",
    "        else:\n",
    "            request_url = apibase + \"corpora/\" + kwargs[\"corpusname\"] \n",
    "    elif \"method\" in kwargs and not \"corpusname\" in kwargs and not \"playname\" in kwargs:\n",
    "            request_url = apibase + kwargs[\"method\"]\n",
    "            \n",
    "    else: \n",
    "        #nothing set\n",
    "        request = request_url = apibase + \"info\"\n",
    "    \n",
    "    #send the response\n",
    "    r = requests.get(request_url)\n",
    "    if r.status_code == 200:\n",
    "        #success!\n",
    "        if \"parse_json\" in kwargs:\n",
    "            if kwargs[\"parse_json\"] == True:\n",
    "                json_data = json.loads(r.text)\n",
    "                return json_data\n",
    "            else:\n",
    "                return r.text\n",
    "        else:\n",
    "            return r.text\n",
    "    else:\n",
    "        raise Exception(\"Request was not successful. Server returned status code: \"  + str(r.status_code))\n",
    "       "
   ]
  },
  {
   "cell_type": "markdown",
   "metadata": {},
   "source": [
    "The function can now be called as follows below. The function call requests the Info about the API `/api/info`:"
   ]
  },
  {
   "cell_type": "code",
   "execution_count": null,
   "metadata": {},
   "outputs": [],
   "source": [
    "get(method=\"info\", parse_json=True)"
   ]
  },
  {
   "cell_type": "markdown",
   "metadata": {},
   "source": [
    "To request the metrics of a single play (`/api/corpora/{corpusname}/play/{playname}/metrics`) use the following function call:"
   ]
  },
  {
   "cell_type": "code",
   "execution_count": 92,
   "metadata": {},
   "outputs": [
    {
     "data": {
      "text/plain": [
       "{'id': 'cal000037',\n",
       " 'name': 'la-vida-es-sueno',\n",
       " 'corpus': 'cal',\n",
       " 'wikipediaLinkCount': 55,\n",
       " 'nodes': [{'betweenness': 0.0016835016835016834,\n",
       "   'degree': 10,\n",
       "   'id': 'estrella',\n",
       "   'closeness': 0.8571428571428571,\n",
       "   'eigenvector': 0.250871119872442,\n",
       "   'weightedDegree': 25},\n",
       "  {'betweenness': 0.00883838383838384,\n",
       "   'degree': 12,\n",
       "   'id': 'segismundo',\n",
       "   'closeness': 1,\n",
       "   'eigenvector': 0.2919729553320794,\n",
       "   'weightedDegree': 59},\n",
       "  {'betweenness': 0.003367003367003367,\n",
       "   'degree': 11,\n",
       "   'id': 'criado-2',\n",
       "   'closeness': 0.9230769230769231,\n",
       "   'eigenvector': 0.2734003865896473,\n",
       "   'weightedDegree': 28},\n",
       "  {'betweenness': 0.00883838383838384,\n",
       "   'degree': 12,\n",
       "   'id': 'astolfo',\n",
       "   'closeness': 1,\n",
       "   'eigenvector': 0.2919729553320794,\n",
       "   'weightedDegree': 40},\n",
       "  {'betweenness': 0.00883838383838384,\n",
       "   'degree': 12,\n",
       "   'id': 'soldado-1',\n",
       "   'closeness': 1,\n",
       "   'eigenvector': 0.2919729553320794,\n",
       "   'weightedDegree': 27},\n",
       "  {'betweenness': 0.00883838383838384,\n",
       "   'degree': 12,\n",
       "   'id': 'soldados',\n",
       "   'closeness': 1,\n",
       "   'eigenvector': 0.2919729553320794,\n",
       "   'weightedDegree': 24},\n",
       "  {'betweenness': 0.00883838383838384,\n",
       "   'degree': 12,\n",
       "   'id': 'basilio',\n",
       "   'closeness': 1,\n",
       "   'eigenvector': 0.2919729553320794,\n",
       "   'weightedDegree': 33},\n",
       "  {'betweenness': 0.00883838383838384,\n",
       "   'degree': 12,\n",
       "   'id': 'clarín',\n",
       "   'closeness': 1,\n",
       "   'eigenvector': 0.2919729553320794,\n",
       "   'weightedDegree': 54},\n",
       "  {'betweenness': 0,\n",
       "   'degree': 9,\n",
       "   'id': 'rosaura',\n",
       "   'closeness': 0.8,\n",
       "   'eigenvector': 0.22866514881148553,\n",
       "   'weightedDegree': 33},\n",
       "  {'betweenness': 0,\n",
       "   'degree': 10,\n",
       "   'id': 'criado-1',\n",
       "   'closeness': 0.8571428571428571,\n",
       "   'eigenvector': 0.25302421463450064,\n",
       "   'weightedDegree': 26},\n",
       "  {'betweenness': 0.00883838383838384,\n",
       "   'degree': 12,\n",
       "   'id': 'soldado-2',\n",
       "   'closeness': 1,\n",
       "   'eigenvector': 0.2919729553320794,\n",
       "   'weightedDegree': 26},\n",
       "  {'betweenness': 0,\n",
       "   'degree': 10,\n",
       "   'id': 'guardas',\n",
       "   'closeness': 0.8571428571428571,\n",
       "   'eigenvector': 0.25302421463450064,\n",
       "   'weightedDegree': 15},\n",
       "  {'betweenness': 0.00883838383838384,\n",
       "   'degree': 12,\n",
       "   'id': 'clotaldo',\n",
       "   'closeness': 1,\n",
       "   'eigenvector': 0.2919729553320794,\n",
       "   'weightedDegree': 50}],\n",
       " 'averageDegree': 11.23076923076923,\n",
       " 'density': 0.9358974358974359,\n",
       " 'averageClustering': 0.9488733488733487,\n",
       " 'maxDegreeIds': ['clotaldo',\n",
       "  'segismundo',\n",
       "  'basilio',\n",
       "  'astolfo',\n",
       "  'clarín',\n",
       "  'soldados',\n",
       "  'soldado-1',\n",
       "  'soldado-2'],\n",
       " 'size': 13,\n",
       " 'maxDegree': 12,\n",
       " 'numConnectedComponents': 1,\n",
       " 'numEdges': 73,\n",
       " 'diameter': 2,\n",
       " 'averagePathLength': 1.064102564102564}"
      ]
     },
     "execution_count": 92,
     "metadata": {},
     "output_type": "execute_result"
    }
   ],
   "source": [
    "get(corpusname=\"cal\",playname=\"la-vida-es-sueno\",method=\"metrics\",parse_json=True)"
   ]
  },
  {
   "cell_type": "markdown",
   "metadata": {},
   "source": [
    "## Example: Gender of Characters\n",
    "\n",
    "In the following example we count characters that are tagged as \"MALE\" and \"FEMALE in a corpus."
   ]
  },
  {
   "cell_type": "code",
   "execution_count": 95,
   "metadata": {
    "editable": true,
    "slideshow": {
     "slide_type": ""
    },
    "tags": []
   },
   "outputs": [
    {
     "name": "stdout",
     "output_type": "stream",
     "text": [
      "la-universal-redencion: female characters: 8; male characters: 5\n",
      "la-iglesia-sitiada: female characters: 6; male characters: 4\n",
      "el-primer-blason-del-austria-auto: female characters: 2; male characters: 11\n",
      "el-gran-duque-de-gandia: female characters: 5; male characters: 6\n",
      "el-divino-jason-attributed: female characters: 2; male characters: 6\n",
      "el-convite-general: female characters: 6; male characters: 14\n",
      "un-castigo-en-tres-venganzas: female characters: 3; male characters: 10\n",
      "tu-projimo-como-a-ti: female characters: 7; male characters: 10\n",
      "triunfar-muriendo: female characters: 5; male characters: 7\n",
      "tambien-hay-duelo-en-las-damas: female characters: 4; male characters: 9\n",
      "suenos-hay-que-verdad-son: female characters: 6; male characters: 20\n",
      "saber-del-mal-y-el-bien: female characters: 4; male characters: 9\n",
      "quien-hallara-mujer-fuerte: female characters: 10; male characters: 10\n",
      "psiquis-y-cupido-toledo: female characters: 6; male characters: 4\n",
      "psiquis-y-cupido-que-escribio-para-esta-villa-de-madrid: female characters: 7; male characters: 7\n",
      "primero-y-segundo-isaac: female characters: 6; male characters: 14\n",
      "primero-soy-yo: female characters: 4; male characters: 7\n",
      "peor-esta-que-estaba: female characters: 4; male characters: 10\n",
      "para-vencer-a-amor-querer-vencerle: female characters: 4; male characters: 11\n",
      "origen-perdida-y-restauracion-de-la-virgen-del-sagrario: female characters: 8; male characters: 26\n",
      "no-siempre-lo-peor-es-cierto: female characters: 3; male characters: 6\n",
      "no-hay-mas-fortuna-que-dios: female characters: 7; male characters: 5\n",
      "no-hay-instante-sin-milagro: female characters: 8; male characters: 8\n",
      "no-hay-cosa-como-callar: female characters: 4; male characters: 11\n",
      "no-hay-burlas-con-el-amor: female characters: 3; male characters: 6\n",
      "ni-amor-se-libra-de-amor: female characters: 5; male characters: 9\n",
      "nadie-fie-su-secreto: female characters: 3; male characters: 6\n",
      "mujer-llora-y-venceras: female characters: 3; male characters: 7\n",
      "mistica-y-real-babilonia: female characters: 1; male characters: 12\n",
      "mejor-esta-que-estaba: female characters: 4; male characters: 6\n",
      "mananas-de-abril-y-mayo: female characters: 5; male characters: 5\n",
      "manana-sera-otro-dia: female characters: 6; male characters: 13\n",
      "luis-perez-el-gallego: female characters: 4; male characters: 19\n",
      "los-tres-mayores-prodigios: female characters: 12; male characters: 23\n",
      "los-tres-afectos-de-amor-piedad-desmayo-y-valor: female characters: 5; male characters: 14\n",
      "los-misterios-de-la-misa: female characters: 3; male characters: 9\n",
      "los-hijos-de-la-fortuna-teagenes-y-cariclea: female characters: 14; male characters: 14\n",
      "los-encantos-de-la-culpa: female characters: 6; male characters: 6\n",
      "los-empenos-de-un-acaso: female characters: 4; male characters: 6\n",
      "los-dos-amantes-del-cielo: female characters: 4; male characters: 8\n",
      "los-cabellos-de-absalon: female characters: 2; male characters: 14\n",
      "los-alimentos-del-hombre-auto: female characters: 4; male characters: 10\n",
      "loa-para-psiquis-y-cupido: female characters: 4; male characters: 5\n",
      "loa-para-la-humildad-coronada-de-las-plantas: female characters: 4; male characters: 4\n",
      "loa-para-el-gran-teatro-del-mundo: female characters: 5; male characters: 4\n",
      "loa-en-metafora-de-la-piadosa-hermandad-del-refugio: female characters: 3; male characters: 4\n",
      "loa-a-fieras-afemina-amor: female characters: 0; male characters: 27\n",
      "loa-a-el-divino-orfeo: female characters: 5; male characters: 7\n",
      "loa-a-el-ano-santo-de-roma: female characters: 2; male characters: 7\n",
      "lo-que-va-del-hombre-a-dios: female characters: 5; male characters: 7\n",
      "llamados-y-escogidos: female characters: 11; male characters: 5\n",
      "las-visiones-de-la-muerte: female characters: 1; male characters: 9\n",
      "las-tres-justicias-en-una: female characters: 4; male characters: 8\n",
      "las-ordenes-militares: female characters: 5; male characters: 13\n",
      "las-manos-blancas-no-ofenden: female characters: 5; male characters: 8\n",
      "las-espigas-de-ruth: female characters: 5; male characters: 17\n",
      "las-cadenas-del-demonio: female characters: 4; male characters: 8\n",
      "las-armas-de-la-hermosura: female characters: 7; male characters: 14\n",
      "lances-de-amor-y-fortuna: female characters: 3; male characters: 7\n",
      "la-vina-del-senor-1996: female characters: 5; male characters: 11\n",
      "la-vida-es-sueno: female characters: 2; male characters: 11\n",
      "la-vida-es-sueno-segunda-version-auto: female characters: 6; male characters: 10\n",
      "la-vida-es-sueno-primera-version-auto: female characters: 5; male characters: 5\n",
      "la-vacante-general: female characters: 3; male characters: 9\n",
      "la-torre-de-babilonia: female characters: 5; male characters: 14\n",
      "la-siembra-del-senor: female characters: 5; male characters: 10\n",
      "la-sibila-del-oriente: female characters: 6; male characters: 10\n",
      "la-serpiente-de-metal: female characters: 5; male characters: 14\n",
      "la-senora-y-la-criada: female characters: 5; male characters: 11\n",
      "la-semilla-y-la-cizana: female characters: 10; male characters: 5\n",
      "la-selva-confusa: female characters: 3; male characters: 9\n",
      "la-segunda-esposa: female characters: 5; male characters: 7\n",
      "la-redencion-de-cautivos: female characters: 3; male characters: 10\n",
      "la-purpura-de-la-rosa: female characters: 9; male characters: 9\n",
      "la-puente-de-mantible: female characters: 2; male characters: 14\n",
      "la-protestacion-de-la-fe: female characters: 7; male characters: 5\n",
      "la-primer-flor-del-carmelo: female characters: 5; male characters: 9\n",
      "la-piel-de-gedeon: female characters: 3; male characters: 13\n",
      "la-nina-de-gomez-arias: female characters: 5; male characters: 11\n",
      "la-nave-del-mercader: female characters: 4; male characters: 10\n",
      "la-lepra-de-constantino: female characters: 8; male characters: 9\n",
      "la-inmunidad-del-sagrado: female characters: 6; male characters: 9\n",
      "la-humildad-coronada-de-las-plantas: female characters: 3; male characters: 8\n",
      "la-hija-del-aire-ii: female characters: 4; male characters: 10\n",
      "la-hija-del-aire-i: female characters: 4; male characters: 9\n",
      "la-hidalga-del-valle: female characters: 4; male characters: 5\n",
      "la-gran-cenobia: female characters: 4; male characters: 12\n",
      "la-fiera-el-rayo-y-la-piedra: female characters: 11; male characters: 12\n",
      "la-exaltacion-de-la-cruz: female characters: 3; male characters: 15\n",
      "la-estatua-de-prometeo: female characters: 7; male characters: 5\n",
      "la-devocion-de-la-misa: female characters: 2; male characters: 9\n",
      "la-devocion-de-la-cruz: female characters: 4; male characters: 13\n",
      "la-desdicha-de-la-voz: female characters: 5; male characters: 8\n",
      "la-dama-duende: female characters: 4; male characters: 5\n",
      "la-cura-y-la-enfermedad: female characters: 9; male characters: 4\n",
      "la-cisma-de-ingalaterra: female characters: 5; male characters: 9\n",
      "la-cena-del-rey-baltasar-auto: female characters: 4; male characters: 3\n",
      "la-banda-y-la-flor: female characters: 4; male characters: 5\n",
      "la-aurora-en-copacabana: female characters: 9; male characters: 18\n",
      "judas-macabeo: female characters: 1; male characters: 12\n",
      "hado-y-divisa-de-leonido-y-marfisa: female characters: 8; male characters: 10\n",
      "gustos-y-disgustos-son-no-mas-que-imaginacion: female characters: 4; male characters: 5\n",
      "fuego-de-dios-en-el-querer-bien: female characters: 4; male characters: 8\n",
      "fortunas-de-andromeda-y-perseo: female characters: 21; male characters: 18\n",
      "fineza-contra-fineza: female characters: 3; male characters: 6\n",
      "fieras-afemina-amor: female characters: 12; male characters: 9\n",
      "en-la-vida-todo-es-verdad-y-todo-mentira: female characters: 10; male characters: 18\n",
      "el-viatico-cordero: female characters: 2; male characters: 12\n",
      "el-verdadero-dios-pan: female characters: 8; male characters: 7\n",
      "el-veneno-y-la-triaca: female characters: 4; male characters: 6\n",
      "el-valle-de-la-zarzuela: female characters: 8; male characters: 4\n",
      "el-tesoro-escondido: female characters: 8; male characters: 9\n",
      "el-socorro-general: female characters: 6; male characters: 7\n",
      "el-sitio-de-breda: female characters: 4; male characters: 20\n",
      "el-segundo-scipion: female characters: 8; male characters: 21\n",
      "el-segundo-blason-del-austria: female characters: 5; male characters: 10\n",
      "el-secreto-a-voces: female characters: 4; male characters: 5\n",
      "el-santo-rey-fernando-segunda-parte: female characters: 3; male characters: 16\n",
      "el-santo-rey-don-fernando-primera-parte: female characters: 5; male characters: 7\n",
      "el-sacro-pernaso: female characters: 7; male characters: 9\n",
      "el-purgatorio-de-san-patricio: female characters: 3; male characters: 13\n",
      "el-principe-constante: female characters: 4; male characters: 14\n",
      "el-primer-refugio-del-hombre-y-probatica-piscina: female characters: 4; male characters: 12\n",
      "el-primer-refugio-del-hombre-loa: female characters: 6; male characters: 9\n",
      "el-postrer-duelo-de-espana: female characters: 4; male characters: 16\n",
      "el-pleito-matrimonial-del-cuerpo-y-el-alma: female characters: 5; male characters: 4\n",
      "el-pintor-de-su-deshonra: female characters: 6; male characters: 13\n",
      "el-pintor-de-su-deshonra-auto: female characters: 5; male characters: 5\n",
      "el-pastor-fido: female characters: 5; male characters: 8\n",
      "el-orden-de-melquisedec: female characters: 4; male characters: 9\n",
      "el-nuevo-palacio-del-retiro: female characters: 5; male characters: 7\n",
      "el-nuevo-hospicio-de-pobres: female characters: 10; male characters: 8\n",
      "el-monstruo-de-los-jardines: female characters: 7; male characters: 11\n",
      "el-medico-de-su-honra: female characters: 5; male characters: 11\n",
      "el-mayor-monstruo-los-celos: female characters: 3; male characters: 9\n",
      "el-mayor-monstruo-del-mundo: female characters: 3; male characters: 9\n",
      "el-mayor-encanto-amor: female characters: 11; male characters: 14\n",
      "el-magico-prodigioso: female characters: 2; male characters: 11\n",
      "el-maestro-de-danzar: female characters: 5; male characters: 7\n",
      "el-maestrazgo-del-tuson: female characters: 6; male characters: 7\n",
      "el-lirio-y-la-azucena: female characters: 7; male characters: 6\n",
      "el-laurel-de-apolo: female characters: 10; male characters: 14\n",
      "el-laberinto-del-mundo: female characters: 8; male characters: 6\n",
      "el-jose-de-las-mujeres: female characters: 4; male characters: 10\n",
      "el-jardin-de-falerina: female characters: 10; male characters: 12\n",
      "el-jardin-de-falerina-auto: female characters: 7; male characters: 8\n",
      "el-indulto-general: female characters: 5; male characters: 11\n",
      "el-hombre-pobre-todo-es-trazas: female characters: 4; male characters: 6\n",
      "el-gran-teatro-del-mundo: female characters: 3; male characters: 7\n",
      "el-gran-principe-de-fez: female characters: 3; male characters: 18\n",
      "el-gran-mercado-del-mundo: female characters: 12; male characters: 5\n",
      "el-golfo-de-las-sirenas: female characters: 14; male characters: 15\n",
      "el-galan-fantasma: female characters: 4; male characters: 8\n",
      "el-faetonte: female characters: 8; male characters: 8\n",
      "el-escondido-y-la-tapada: female characters: 4; male characters: 14\n",
      "el-encanto-sin-encanto: female characters: 5; male characters: 11\n",
      "el-divino-orfeo: female characters: 3; male characters: 11\n",
      "el-divino-orfeo-1634: female characters: 2; male characters: 5\n",
      "el-divino-cazador: female characters: 7; male characters: 9\n",
      "el-diablo-mudo-segunda-version: female characters: 5; male characters: 8\n",
      "el-diablo-mudo-primera-version: female characters: 5; male characters: 7\n",
      "el-dia-mayor-de-los-dias: female characters: 8; male characters: 8\n",
      "el-cubo-de-la-almudena: female characters: 5; male characters: 9\n",
      "el-cordero-de-isaias: female characters: 4; male characters: 13\n",
      "el-conde-lucanor: female characters: 7; male characters: 9\n",
      "el-castillo-de-lindabridis: female characters: 4; male characters: 10\n",
      "el-astrologo-fingido: female characters: 4; male characters: 8\n",
      "el-arca-de-dios-cautiva: female characters: 3; male characters: 18\n",
      "el-arbol-de-mejor-fruto: female characters: 9; male characters: 10\n",
      "el-ano-santo-de-roma: female characters: 7; male characters: 10\n",
      "el-ano-santo-de-madrid: female characters: 9; male characters: 5\n",
      "el-alcalde-de-zalamea: female characters: 3; male characters: 12\n",
      "el-alcaide-de-si-mismo: female characters: 4; male characters: 16\n",
      "el-agua-mansa: female characters: 4; male characters: 7\n",
      "el-acaso-y-el-error: female characters: 5; male characters: 11\n",
      "eco-y-narciso: female characters: 5; male characters: 6\n",
      "duelos-de-amor-y-lealtad: female characters: 6; male characters: 13\n",
      "dicha-y-desdicha-del-nombre: female characters: 4; male characters: 10\n",
      "de-una-causa-dos-efectos: female characters: 6; male characters: 7\n",
      "darlo-todo-y-no-dar-nada: female characters: 6; male characters: 9\n",
      "dar-tiempo-al-tiempo: female characters: 5; male characters: 12\n",
      "cual-es-mayor-perfeccion-hermosura-o-discrecion: female characters: 6; male characters: 6\n",
      "con-quien-vengo-vengo: female characters: 3; male characters: 7\n",
      "como-se-comunican-dos-estrellas-contrarias: female characters: 6; male characters: 8\n",
      "celos-aun-del-aire-matan: female characters: 11; male characters: 6\n",
      "cefalo-y-pocris: female characters: 9; male characters: 12\n",
      "casa-con-dos-puertas-mala-es-de-guardar: female characters: 4; male characters: 6\n",
      "cada-uno-para-si: female characters: 4; male characters: 9\n",
      "bien-vengas-mal-si-vienes-solo: female characters: 4; male characters: 7\n",
      "basta-callar: female characters: 5; male characters: 8\n",
      "auristela-y-lisidante: female characters: 6; male characters: 11\n",
      "argenis-y-poliarco: female characters: 5; male characters: 9\n",
      "apolo-y-climene: female characters: 6; male characters: 7\n",
      "antes-que-todo-es-mi-dama: female characters: 4; male characters: 7\n",
      "andromeda-y-perseo: female characters: 7; male characters: 8\n",
      "amor-honor-y-poder: female characters: 2; male characters: 7\n",
      "amigo-amante-y-leal: female characters: 4; male characters: 5\n",
      "amar-y-ser-amado-y-divina-filotea: female characters: 9; male characters: 15\n",
      "amar-despues-de-la-muerte: female characters: 5; male characters: 15\n",
      "amado-y-aborrecido: female characters: 8; male characters: 7\n",
      "agradecer-y-no-amar: female characters: 4; male characters: 5\n",
      "afectos-de-odio-y-amor: female characters: 5; male characters: 9\n",
      "a-secreto-agravio-secreta-venganza: female characters: 2; male characters: 11\n",
      "a-maria-el-corazon: female characters: 9; male characters: 4\n",
      "a-dios-por-razon-de-estado: female characters: 10; male characters: 7\n",
      "\n",
      "\n",
      "There are 1107 female and 1960 male characters in the corpus 'cal'\n"
     ]
    }
   ],
   "source": [
    "#Get all plays in a Corpus\n",
    "if corpusname != \"\":\n",
    "    #get data of a single corpus and store only the list of plays in the variable \"plays\"\n",
    "    plays = get(corpusname=corpusname,parse_json=True)[\"plays\"]\n",
    "    #set counters for male an female characters in the corpus\n",
    "    overallMale = 0\n",
    "    overallFemale = 0\n",
    "    #check, if a corpusname was entered\n",
    "    if corpusname != \"\":\n",
    "        #iterate over the plays\n",
    "        for play in plays:\n",
    "            #get the characters of a play by using the api endpoint /api/corpora/{corpusname}/play/{playname}/characters\n",
    "            characters = get(corpusname=corpusname,playname=play[\"name\"],method=\"characters\",parse_json=True)\n",
    "            #reset the counters for male and female characters\n",
    "            cntMale = 0\n",
    "            cntFemale = 0\n",
    "            #iterate over the characters and increment the counters\n",
    "            for character in characters:\n",
    "                gender = character[\"gender\"]\n",
    "                if gender == \"MALE\":\n",
    "                    cntMale = cntMale + 1\n",
    "                elif gender == \"FEMALE\":\n",
    "                    cntFemale = cntFemale + 1\n",
    "            # report the result per play\n",
    "            print(play[\"name\"] + \": \" + \"female characters: \" + str(cntFemale) + \"; male characters: \" + str(cntMale))\n",
    "        \n",
    "            # increment the overall counters\n",
    "            overallMale = overallMale + cntMale\n",
    "            overallFemale = overallFemale + cntFemale\n",
    "    # report the results on corpus level\n",
    "    print(\"\\n\\nThere are \" + str(overallFemale) + \" female and \" + str(overallMale) + \" male characters in the corpus '\" + corpusname + \"'\")\n",
    "    \n",
    "else:\n",
    "    raise Exception(\"Please enter a corpus!\")\n"
   ]
  },
  {
   "cell_type": "code",
   "execution_count": null,
   "metadata": {},
   "outputs": [],
   "source": []
  }
 ],
 "metadata": {
  "kernelspec": {
   "display_name": "Python 3 (ipykernel)",
   "language": "python",
   "name": "python3"
  },
  "language_info": {
   "codemirror_mode": {
    "name": "ipython",
    "version": 3
   },
   "file_extension": ".py",
   "mimetype": "text/x-python",
   "name": "python",
   "nbconvert_exporter": "python",
   "pygments_lexer": "ipython3",
   "version": "3.11.8"
  }
 },
 "nbformat": 4,
 "nbformat_minor": 4
}
