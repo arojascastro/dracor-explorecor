{
 "cells": [
  {
   "cell_type": "markdown",
   "metadata": {
    "editable": true,
    "slideshow": {
     "slide_type": ""
    },
    "tags": []
   },
   "source": [
    "# *To catch a protagonist* in DraCor"
   ]
  },
  {
   "cell_type": "markdown",
   "metadata": {
    "editable": true,
    "slideshow": {
     "slide_type": ""
    },
    "tags": []
   },
   "source": [
    "In the paper [*To Catch a Protagonist: Quantitative Domninance Relations in German-Language Drama (1730-1930)*](https://dh2018.adho.org/to-catch-a-protagonist-quantitative-dominance-relations-in-german-language-drama-1730-1930) ({cite:t}`fischer_catch_2018`) an algorithm is described, that allows to identify characters that are the quantitatively dominant characters of a play based on a set of network-based and count based measures:\n",
    "\n",
    "> In order to systematically describe the extent of this deviation, we calculate eight values for each character of the 465 dramas of our corpus, three count-based measures (number of scenes a character appears in, number of speech acts, number of spoken words) and five network-related measures (degree, weighted degree, betweenness centrality, closeness centrality, eigenvector centrality). For each measurement a ranking is created. The rankings are then merged into two meta-rankings: one count-based and one network-based. The two meta-rankings are then combined into an overall ranking.\n",
    "\n",
    "The original algorithm was implemented in the tool [Dramavis](https://github.com/lehkost/dramavis) by Christopher Kittel. *Dramavis* operates on XML [\"zwischenformat\"](https://dlina.github.io/Introducing-Our-Zwischenformat) files (cf. {cite:p}`kampkaspar_2015_zwischenformat`) created in the [DLINA](https://dlina.github.io) project. \n",
    "\n",
    "The following notebook[^catch_protagonist_notebook_source] adapts the code of the respective modules to work with data returned by the [DraCor API](https://dracor.org/doc/api). The aim is to be able to recreate the `*_chars.csv`-files that were used in the study. The data can be found in the [repository](https://github.com/dlina/catch-protagonist) on GitHub in the folder [`allmetrics`](https://github.com/dlina/catch-protagonist/tree/main/data/allmetrics).\n",
    "\n",
    "[^catch_protagonist_notebook_source]: This notebook was originally published in the [dracor-notebooks](https://github.com/dracor-org/dracor-notebooks) GitHub repository and presented in the talk \"To catch a protagonist … once again. An attempt to recreate a corpus-based study using Linked Data\" at the [Distant Reading project's closing conference](https://www.distant-reading.net/events/conference-programme). For the ExploreCor Training School it has been adapted to work with major version v1 of the DraCor API.\n",
    "\n",
    "The implementation will be tested with the play *Emilia Galotti*. The original algorithm operated on the corresponding [LINA](https://dlina.github.io/linas/88) and produced the file [`88_Emilia Galotti_chars.csv`](https://github.com/dlina/catch-protagonist/blob/main/data/allmetrics/88_Emilia%20Galotti_chars.csv) as output In DraCor the play can be accessed [here](https://dracor.org/ger/lessing-emilia-galotti).\n"
   ]
  },
  {
   "cell_type": "markdown",
   "metadata": {
    "editable": true,
    "slideshow": {
     "slide_type": ""
    },
    "tags": []
   },
   "source": [
    "## Step 1. Get the basic measures\n",
    "\n",
    "We need to get the following basic measures on characters:\n",
    "\n",
    "**Network measures**\n",
    "\n",
    "* betweenness\n",
    "* degree\n",
    "* closeness\n",
    "* ~~closeness corrected~~\n",
    "* weighted degree\n",
    "* eigenvector centrality\n",
    "\n",
    "**count-based measures**\n",
    "\n",
    "* frequency/appearances\n",
    "* number of *speech acts*\n",
    "* number of *words*"
   ]
  },
  {
   "cell_type": "markdown",
   "metadata": {},
   "source": [
    "### Network and count-based metrics via Dracor API"
   ]
  },
  {
   "cell_type": "markdown",
   "metadata": {},
   "source": [
    "The Python-Packages [`requests`](https://docs.python-requests.org/en/latest/) and the library [`json`](https://docs.python.org/3/library/json.html#module-json) will be used to query the API and parse the response:"
   ]
  },
  {
   "cell_type": "code",
   "execution_count": 1,
   "metadata": {
    "editable": true,
    "slideshow": {
     "slide_type": ""
    },
    "tags": []
   },
   "outputs": [],
   "source": [
    "# if not installed, uncomment the following line and run the cell:\n",
    "# !pip install requests"
   ]
  },
  {
   "cell_type": "code",
   "execution_count": 2,
   "metadata": {},
   "outputs": [],
   "source": [
    "import requests\n",
    "import json"
   ]
  },
  {
   "cell_type": "code",
   "execution_count": 3,
   "metadata": {},
   "outputs": [],
   "source": [
    "# set corpus and playname\n",
    "corpusname = \"cal\"\n",
    "playname = \"el-jose-de-las-mujeres\""
   ]
  },
  {
   "cell_type": "code",
   "execution_count": 4,
   "metadata": {},
   "outputs": [],
   "source": [
    "# base url of the DraCor-API\n",
    "api_base = \"https://dracor.org/api/v1/\""
   ]
  },
  {
   "cell_type": "markdown",
   "metadata": {
    "editable": true,
    "slideshow": {
     "slide_type": ""
    },
    "tags": []
   },
   "source": [
    "To retrieve the network-data and speech-amounts data on single characters the function `/corpora/{corpusname}/plays/{playname}/characters` is used as follows:"
   ]
  },
  {
   "cell_type": "code",
   "execution_count": 5,
   "metadata": {
    "editable": true,
    "slideshow": {
     "slide_type": ""
    },
    "tags": []
   },
   "outputs": [
    {
     "name": "stdout",
     "output_type": "stream",
     "text": [
      "https://dracor.org/api/v1/corpora/cal/plays/el-jose-de-las-mujeres/characters\n"
     ]
    }
   ],
   "source": [
    "# send a request to the endpoint and parse results\n",
    "request_url = api_base + \"corpora/\" + corpusname + \"/plays/\" + playname + \"/characters\"\n",
    "print(request_url)\n",
    "r = requests.get(request_url)\n",
    "character_data = json.loads(r.text)"
   ]
  },
  {
   "cell_type": "markdown",
   "metadata": {},
   "source": [
    "The API function returns data on the characters, including the network and count-based metrics:"
   ]
  },
  {
   "cell_type": "code",
   "execution_count": 6,
   "metadata": {},
   "outputs": [
    {
     "data": {
      "text/plain": [
       "[{'id': 'eugenia',\n",
       "  'name': 'Eugenia',\n",
       "  'isGroup': False,\n",
       "  'gender': 'FEMALE',\n",
       "  'numOfScenes': 34,\n",
       "  'numOfSpeechActs': 154,\n",
       "  'numOfWords': 3360,\n",
       "  'degree': 13,\n",
       "  'weightedDegree': 86,\n",
       "  'closeness': 0.782608695652174,\n",
       "  'betweenness': 0.04791731507417782,\n",
       "  'eigenvector': 0.30205007624710395},\n",
       " {'id': 'eleno',\n",
       "  'name': 'Eleno',\n",
       "  'isGroup': False,\n",
       "  'gender': 'MALE',\n",
       "  'numOfScenes': 10,\n",
       "  'numOfSpeechActs': 43,\n",
       "  'numOfWords': 702,\n",
       "  'degree': 10,\n",
       "  'weightedDegree': 29,\n",
       "  'closeness': 0.6923076923076923,\n",
       "  'betweenness': 0.016417678182384064,\n",
       "  'eigenvector': 0.24889189555951305},\n",
       " {'id': 'demonio',\n",
       "  'name': 'Demonio',\n",
       "  'isGroup': False,\n",
       "  'gender': 'MALE',\n",
       "  'numOfScenes': 5,\n",
       "  'numOfSpeechActs': 13,\n",
       "  'numOfWords': 436,\n",
       "  'degree': 7,\n",
       "  'weightedDegree': 10,\n",
       "  'closeness': 0.6206896551724138,\n",
       "  'betweenness': 0.0007262164124909223,\n",
       "  'eigenvector': 0.18771531429901112},\n",
       " {'id': 'filipo',\n",
       "  'name': 'Filipo',\n",
       "  'isGroup': False,\n",
       "  'gender': 'MALE',\n",
       "  'numOfScenes': 27,\n",
       "  'numOfSpeechActs': 59,\n",
       "  'numOfWords': 1012,\n",
       "  'degree': 14,\n",
       "  'weightedDegree': 77,\n",
       "  'closeness': 0.8181818181818182,\n",
       "  'betweenness': 0.11109814296088805,\n",
       "  'eigenvector': 0.3035840448641184},\n",
       " {'id': 'sergio',\n",
       "  'name': 'Sergio',\n",
       "  'isGroup': False,\n",
       "  'gender': 'MALE',\n",
       "  'numOfScenes': 21,\n",
       "  'numOfSpeechActs': 50,\n",
       "  'numOfWords': 690,\n",
       "  'degree': 13,\n",
       "  'weightedDegree': 68,\n",
       "  'closeness': 0.782608695652174,\n",
       "  'betweenness': 0.062078535117750806,\n",
       "  'eigenvector': 0.298777170427907},\n",
       " {'id': 'todos',\n",
       "  'name': None,\n",
       "  'isGroup': False,\n",
       "  'gender': None,\n",
       "  'numOfScenes': 11,\n",
       "  'numOfSpeechActs': 12,\n",
       "  'numOfWords': 63,\n",
       "  'degree': 11,\n",
       "  'weightedDegree': 40,\n",
       "  'closeness': 0.72,\n",
       "  'betweenness': 0.016249092229484383,\n",
       "  'eigenvector': 0.27638310069638505},\n",
       " {'id': 'capricho',\n",
       "  'name': 'Capricho',\n",
       "  'isGroup': False,\n",
       "  'gender': 'MALE',\n",
       "  'numOfScenes': 35,\n",
       "  'numOfSpeechActs': 131,\n",
       "  'numOfWords': 1898,\n",
       "  'degree': 14,\n",
       "  'weightedDegree': 82,\n",
       "  'closeness': 0.8181818181818182,\n",
       "  'betweenness': 0.09203496213300134,\n",
       "  'eigenvector': 0.3076681422547684},\n",
       " {'id': 'julia',\n",
       "  'name': 'Julia',\n",
       "  'isGroup': False,\n",
       "  'gender': 'FEMALE',\n",
       "  'numOfScenes': 14,\n",
       "  'numOfSpeechActs': 37,\n",
       "  'numOfWords': 369,\n",
       "  'degree': 10,\n",
       "  'weightedDegree': 45,\n",
       "  'closeness': 0.6923076923076923,\n",
       "  'betweenness': 0.013071895424836602,\n",
       "  'eigenvector': 0.25511345091480986},\n",
       " {'id': 'aurelio',\n",
       "  'name': 'Aurelio',\n",
       "  'isGroup': False,\n",
       "  'gender': 'MALE',\n",
       "  'numOfScenes': 36,\n",
       "  'numOfSpeechActs': 159,\n",
       "  'numOfWords': 3152,\n",
       "  'degree': 15,\n",
       "  'weightedDegree': 92,\n",
       "  'closeness': 0.8571428571428571,\n",
       "  'betweenness': 0.15622730573710963,\n",
       "  'eigenvector': 0.3057536387526042},\n",
       " {'id': 'melancia',\n",
       "  'name': 'Melancia',\n",
       "  'isGroup': False,\n",
       "  'gender': 'FEMALE',\n",
       "  'numOfScenes': 21,\n",
       "  'numOfSpeechActs': 90,\n",
       "  'numOfWords': 1629,\n",
       "  'degree': 12,\n",
       "  'weightedDegree': 52,\n",
       "  'closeness': 0.75,\n",
       "  'betweenness': 0.0347676107480029,\n",
       "  'eigenvector': 0.28548679583812764},\n",
       " {'id': 'flora',\n",
       "  'name': 'Flora',\n",
       "  'isGroup': False,\n",
       "  'gender': 'FEMALE',\n",
       "  'numOfScenes': 3,\n",
       "  'numOfSpeechActs': 3,\n",
       "  'numOfWords': 13,\n",
       "  'degree': 4,\n",
       "  'weightedDegree': 8,\n",
       "  'closeness': 0.5294117647058824,\n",
       "  'betweenness': 0,\n",
       "  'eigenvector': 0.10715092866781306},\n",
       " {'id': 'músicos',\n",
       "  'name': 'Músicos',\n",
       "  'isGroup': True,\n",
       "  'gender': 'UNKNOWN',\n",
       "  'numOfScenes': 7,\n",
       "  'numOfSpeechActs': 11,\n",
       "  'numOfWords': 213,\n",
       "  'degree': 10,\n",
       "  'weightedDegree': 19,\n",
       "  'closeness': 0.6923076923076923,\n",
       "  'betweenness': 0.003890445066915655,\n",
       "  'eigenvector': 0.2619582776836843},\n",
       " {'id': 'cesarino',\n",
       "  'name': 'Cesarino',\n",
       "  'isGroup': False,\n",
       "  'gender': 'MALE',\n",
       "  'numOfScenes': 21,\n",
       "  'numOfSpeechActs': 61,\n",
       "  'numOfWords': 1245,\n",
       "  'degree': 13,\n",
       "  'weightedDegree': 68,\n",
       "  'closeness': 0.782608695652174,\n",
       "  'betweenness': 0.062078535117750806,\n",
       "  'eigenvector': 0.298777170427907},\n",
       " {'id': 'uno',\n",
       "  'name': None,\n",
       "  'isGroup': False,\n",
       "  'gender': None,\n",
       "  'numOfScenes': 1,\n",
       "  'numOfSpeechActs': 1,\n",
       "  'numOfWords': 5,\n",
       "  'degree': 2,\n",
       "  'weightedDegree': 2,\n",
       "  'closeness': 0.5294117647058824,\n",
       "  'betweenness': 0,\n",
       "  'eigenvector': 0.056577013516000786},\n",
       " {'id': 'unos',\n",
       "  'name': None,\n",
       "  'isGroup': False,\n",
       "  'gender': None,\n",
       "  'numOfScenes': 1,\n",
       "  'numOfSpeechActs': 1,\n",
       "  'numOfWords': 5,\n",
       "  'degree': 4,\n",
       "  'weightedDegree': 4,\n",
       "  'closeness': 0.5,\n",
       "  'betweenness': 0,\n",
       "  'eigenvector': 0.09223451442694368},\n",
       " {'id': 'otros',\n",
       "  'name': None,\n",
       "  'isGroup': False,\n",
       "  'gender': None,\n",
       "  'numOfScenes': 1,\n",
       "  'numOfSpeechActs': 1,\n",
       "  'numOfWords': 5,\n",
       "  'degree': 4,\n",
       "  'weightedDegree': 4,\n",
       "  'closeness': 0.5,\n",
       "  'betweenness': 0,\n",
       "  'eigenvector': 0.09223451442694368},\n",
       " {'id': 'soldado-1',\n",
       "  'name': 'Soldado 1',\n",
       "  'isGroup': False,\n",
       "  'gender': 'MALE',\n",
       "  'numOfScenes': 2,\n",
       "  'numOfSpeechActs': 4,\n",
       "  'numOfWords': 18,\n",
       "  'degree': 5,\n",
       "  'weightedDegree': 7,\n",
       "  'closeness': 0.5454545454545454,\n",
       "  'betweenness': 0.004357298474945533,\n",
       "  'eigenvector': 0.1143859116447808},\n",
       " {'id': 'soldado-2',\n",
       "  'name': 'Soldado 2',\n",
       "  'isGroup': False,\n",
       "  'gender': 'MALE',\n",
       "  'numOfScenes': 1,\n",
       "  'numOfSpeechActs': 1,\n",
       "  'numOfWords': 7,\n",
       "  'degree': 3,\n",
       "  'weightedDegree': 3,\n",
       "  'closeness': 0.5142857142857142,\n",
       "  'betweenness': 0,\n",
       "  'eigenvector': 0.06757714431816249},\n",
       " {'id': 'gente',\n",
       "  'name': 'Gente',\n",
       "  'isGroup': False,\n",
       "  'gender': 'MALE',\n",
       "  'numOfScenes': 1,\n",
       "  'numOfSpeechActs': 2,\n",
       "  'numOfWords': 12,\n",
       "  'degree': 4,\n",
       "  'weightedDegree': 4,\n",
       "  'closeness': 0.5294117647058824,\n",
       "  'betweenness': 0,\n",
       "  'eigenvector': 0.10860412613087904}]"
      ]
     },
     "execution_count": 6,
     "metadata": {},
     "output_type": "execute_result"
    }
   ],
   "source": [
    "character_data"
   ]
  },
  {
   "cell_type": "markdown",
   "metadata": {},
   "source": [
    "The data on the characters are in a dictionary:\n",
    "```\n",
    "{'betweenness': 0.24696969696969698,\n",
    "  'closeness': 0.8,\n",
    "  'degree': 9,\n",
    "  'eigenvector': 0.44898463593218985,\n",
    "  'gender': 'MALE',\n",
    "  'id': 'marinelli',\n",
    "  'isGroup': False,\n",
    "  'name': 'Marinelli',\n",
    "  'numOfScenes': 19,\n",
    "  'numOfSpeechActs': 221,\n",
    "  'numOfWords': 4343,\n",
    "  'weightedDegree': 30}\n",
    "```"
   ]
  },
  {
   "cell_type": "markdown",
   "metadata": {
    "editable": true,
    "slideshow": {
     "slide_type": ""
    },
    "tags": []
   },
   "source": [
    "We don't know anything about the network metrics of the whole play, though. If we want to retrieve this information, we would have to use the API function `/corpora/{corpusname}/plays/{playname}/metrics`, which would also tell us, if there are several sub-networks in a dictionary-field with the key `numConnectedComponents`. This could be relevant, because we can also calculate some network-metrics differently, e.g. the *closeness*."
   ]
  },
  {
   "cell_type": "markdown",
   "metadata": {},
   "source": [
    "## Preparation: Get the metrics and construct a pandas data frame"
   ]
  },
  {
   "cell_type": "markdown",
   "metadata": {},
   "source": [
    "In the Dramavis implementation an object of the class `DramaAnalyzer` is created, which contains the information on characters in a pandas data frame. We will create the same data structure to be able to use the same methods for calculating means and ranking.\n",
    "\n",
    "The rows in the [table](https://raw.githubusercontent.com/dlina/catch-protagonist/main/data/allmetrics/88_Emilia%20Galotti_chars.csv) are:\n",
    "\n",
    "`name,betweenness,degree,closeness,closeness_corrected,strength,eigenvector_centrality,avg_distance,avg_distance_corrected,frequency,speech_acts,words,lines,chars ...`\n",
    "\n",
    "We will not include all rows, but only the ones, that are relevant for the rankings:\n",
    "\n",
    "`name`,`betweenness`,`degree`,`closeness`,~~closeness_corrected~~,`strength`,`eigenvector_centrality`,~~avg_distance,avg_distance_corrected~~,`frequency`,`speech_acts`,`words`,~~lines,chars~~ ...\n",
    "\n",
    "following rows will be called differently to follow DraCor conventions of the [API output](https://dracor.org/api/corpora/ger/plays/lessing-emilia-galotti/characters):\n",
    "\n",
    "* `name` → `id`; later this will be used to construct URIs\n",
    "* `strength` → `weightedDegree`\n",
    "* `eigenvector_centrality` → `eigenvector`\n",
    "* `frequency` → `numOfScenes`\n",
    "* `speech_acts` → `numOfSpeechActs`\n",
    "* `words` → `numOfWords`\n",
    "\n"
   ]
  },
  {
   "cell_type": "markdown",
   "metadata": {},
   "source": [
    "The package [`pandas`](https://pandas.pydata.org/) is used to handle the data as a dataframe. Therefore we need to import the package."
   ]
  },
  {
   "cell_type": "code",
   "execution_count": 7,
   "metadata": {
    "editable": true,
    "slideshow": {
     "slide_type": ""
    },
    "tags": [
     "remove-cell"
    ]
   },
   "outputs": [],
   "source": [
    "# if not installed, uncomment the following line and run the cell:\n",
    "# !pip install pandas"
   ]
  },
  {
   "cell_type": "code",
   "execution_count": 8,
   "metadata": {},
   "outputs": [],
   "source": [
    "import pandas as pd"
   ]
  },
  {
   "cell_type": "markdown",
   "metadata": {},
   "source": [
    "First, we need to transform the parsed JSON API response to a list of lists, that is then turned into the data frame `df`."
   ]
  },
  {
   "cell_type": "code",
   "execution_count": 9,
   "metadata": {
    "scrolled": true
   },
   "outputs": [
    {
     "data": {
      "text/html": [
       "<div>\n",
       "<style scoped>\n",
       "    .dataframe tbody tr th:only-of-type {\n",
       "        vertical-align: middle;\n",
       "    }\n",
       "\n",
       "    .dataframe tbody tr th {\n",
       "        vertical-align: top;\n",
       "    }\n",
       "\n",
       "    .dataframe thead th {\n",
       "        text-align: right;\n",
       "    }\n",
       "</style>\n",
       "<table border=\"1\" class=\"dataframe\">\n",
       "  <thead>\n",
       "    <tr style=\"text-align: right;\">\n",
       "      <th></th>\n",
       "      <th>betweenness</th>\n",
       "      <th>degree</th>\n",
       "      <th>closeness</th>\n",
       "      <th>weightedDegree</th>\n",
       "      <th>eigenvector</th>\n",
       "      <th>numOfScenes</th>\n",
       "      <th>numOfSpeechActs</th>\n",
       "      <th>numOfWords</th>\n",
       "    </tr>\n",
       "    <tr>\n",
       "      <th>id</th>\n",
       "      <th></th>\n",
       "      <th></th>\n",
       "      <th></th>\n",
       "      <th></th>\n",
       "      <th></th>\n",
       "      <th></th>\n",
       "      <th></th>\n",
       "      <th></th>\n",
       "    </tr>\n",
       "  </thead>\n",
       "  <tbody>\n",
       "    <tr>\n",
       "      <th>eugenia</th>\n",
       "      <td>0.047917</td>\n",
       "      <td>13</td>\n",
       "      <td>0.782609</td>\n",
       "      <td>86</td>\n",
       "      <td>0.302050</td>\n",
       "      <td>34</td>\n",
       "      <td>154</td>\n",
       "      <td>3360</td>\n",
       "    </tr>\n",
       "    <tr>\n",
       "      <th>eleno</th>\n",
       "      <td>0.016418</td>\n",
       "      <td>10</td>\n",
       "      <td>0.692308</td>\n",
       "      <td>29</td>\n",
       "      <td>0.248892</td>\n",
       "      <td>10</td>\n",
       "      <td>43</td>\n",
       "      <td>702</td>\n",
       "    </tr>\n",
       "    <tr>\n",
       "      <th>demonio</th>\n",
       "      <td>0.000726</td>\n",
       "      <td>7</td>\n",
       "      <td>0.620690</td>\n",
       "      <td>10</td>\n",
       "      <td>0.187715</td>\n",
       "      <td>5</td>\n",
       "      <td>13</td>\n",
       "      <td>436</td>\n",
       "    </tr>\n",
       "    <tr>\n",
       "      <th>filipo</th>\n",
       "      <td>0.111098</td>\n",
       "      <td>14</td>\n",
       "      <td>0.818182</td>\n",
       "      <td>77</td>\n",
       "      <td>0.303584</td>\n",
       "      <td>27</td>\n",
       "      <td>59</td>\n",
       "      <td>1012</td>\n",
       "    </tr>\n",
       "    <tr>\n",
       "      <th>sergio</th>\n",
       "      <td>0.062079</td>\n",
       "      <td>13</td>\n",
       "      <td>0.782609</td>\n",
       "      <td>68</td>\n",
       "      <td>0.298777</td>\n",
       "      <td>21</td>\n",
       "      <td>50</td>\n",
       "      <td>690</td>\n",
       "    </tr>\n",
       "    <tr>\n",
       "      <th>todos</th>\n",
       "      <td>0.016249</td>\n",
       "      <td>11</td>\n",
       "      <td>0.720000</td>\n",
       "      <td>40</td>\n",
       "      <td>0.276383</td>\n",
       "      <td>11</td>\n",
       "      <td>12</td>\n",
       "      <td>63</td>\n",
       "    </tr>\n",
       "    <tr>\n",
       "      <th>capricho</th>\n",
       "      <td>0.092035</td>\n",
       "      <td>14</td>\n",
       "      <td>0.818182</td>\n",
       "      <td>82</td>\n",
       "      <td>0.307668</td>\n",
       "      <td>35</td>\n",
       "      <td>131</td>\n",
       "      <td>1898</td>\n",
       "    </tr>\n",
       "    <tr>\n",
       "      <th>julia</th>\n",
       "      <td>0.013072</td>\n",
       "      <td>10</td>\n",
       "      <td>0.692308</td>\n",
       "      <td>45</td>\n",
       "      <td>0.255113</td>\n",
       "      <td>14</td>\n",
       "      <td>37</td>\n",
       "      <td>369</td>\n",
       "    </tr>\n",
       "    <tr>\n",
       "      <th>aurelio</th>\n",
       "      <td>0.156227</td>\n",
       "      <td>15</td>\n",
       "      <td>0.857143</td>\n",
       "      <td>92</td>\n",
       "      <td>0.305754</td>\n",
       "      <td>36</td>\n",
       "      <td>159</td>\n",
       "      <td>3152</td>\n",
       "    </tr>\n",
       "    <tr>\n",
       "      <th>melancia</th>\n",
       "      <td>0.034768</td>\n",
       "      <td>12</td>\n",
       "      <td>0.750000</td>\n",
       "      <td>52</td>\n",
       "      <td>0.285487</td>\n",
       "      <td>21</td>\n",
       "      <td>90</td>\n",
       "      <td>1629</td>\n",
       "    </tr>\n",
       "    <tr>\n",
       "      <th>flora</th>\n",
       "      <td>0.000000</td>\n",
       "      <td>4</td>\n",
       "      <td>0.529412</td>\n",
       "      <td>8</td>\n",
       "      <td>0.107151</td>\n",
       "      <td>3</td>\n",
       "      <td>3</td>\n",
       "      <td>13</td>\n",
       "    </tr>\n",
       "    <tr>\n",
       "      <th>músicos</th>\n",
       "      <td>0.003890</td>\n",
       "      <td>10</td>\n",
       "      <td>0.692308</td>\n",
       "      <td>19</td>\n",
       "      <td>0.261958</td>\n",
       "      <td>7</td>\n",
       "      <td>11</td>\n",
       "      <td>213</td>\n",
       "    </tr>\n",
       "    <tr>\n",
       "      <th>cesarino</th>\n",
       "      <td>0.062079</td>\n",
       "      <td>13</td>\n",
       "      <td>0.782609</td>\n",
       "      <td>68</td>\n",
       "      <td>0.298777</td>\n",
       "      <td>21</td>\n",
       "      <td>61</td>\n",
       "      <td>1245</td>\n",
       "    </tr>\n",
       "    <tr>\n",
       "      <th>uno</th>\n",
       "      <td>0.000000</td>\n",
       "      <td>2</td>\n",
       "      <td>0.529412</td>\n",
       "      <td>2</td>\n",
       "      <td>0.056577</td>\n",
       "      <td>1</td>\n",
       "      <td>1</td>\n",
       "      <td>5</td>\n",
       "    </tr>\n",
       "    <tr>\n",
       "      <th>unos</th>\n",
       "      <td>0.000000</td>\n",
       "      <td>4</td>\n",
       "      <td>0.500000</td>\n",
       "      <td>4</td>\n",
       "      <td>0.092235</td>\n",
       "      <td>1</td>\n",
       "      <td>1</td>\n",
       "      <td>5</td>\n",
       "    </tr>\n",
       "    <tr>\n",
       "      <th>otros</th>\n",
       "      <td>0.000000</td>\n",
       "      <td>4</td>\n",
       "      <td>0.500000</td>\n",
       "      <td>4</td>\n",
       "      <td>0.092235</td>\n",
       "      <td>1</td>\n",
       "      <td>1</td>\n",
       "      <td>5</td>\n",
       "    </tr>\n",
       "    <tr>\n",
       "      <th>soldado-1</th>\n",
       "      <td>0.004357</td>\n",
       "      <td>5</td>\n",
       "      <td>0.545455</td>\n",
       "      <td>7</td>\n",
       "      <td>0.114386</td>\n",
       "      <td>2</td>\n",
       "      <td>4</td>\n",
       "      <td>18</td>\n",
       "    </tr>\n",
       "    <tr>\n",
       "      <th>soldado-2</th>\n",
       "      <td>0.000000</td>\n",
       "      <td>3</td>\n",
       "      <td>0.514286</td>\n",
       "      <td>3</td>\n",
       "      <td>0.067577</td>\n",
       "      <td>1</td>\n",
       "      <td>1</td>\n",
       "      <td>7</td>\n",
       "    </tr>\n",
       "    <tr>\n",
       "      <th>gente</th>\n",
       "      <td>0.000000</td>\n",
       "      <td>4</td>\n",
       "      <td>0.529412</td>\n",
       "      <td>4</td>\n",
       "      <td>0.108604</td>\n",
       "      <td>1</td>\n",
       "      <td>2</td>\n",
       "      <td>12</td>\n",
       "    </tr>\n",
       "  </tbody>\n",
       "</table>\n",
       "</div>"
      ],
      "text/plain": [
       "           betweenness  degree  closeness  weightedDegree  eigenvector  \\\n",
       "id                                                                       \n",
       "eugenia       0.047917      13   0.782609              86     0.302050   \n",
       "eleno         0.016418      10   0.692308              29     0.248892   \n",
       "demonio       0.000726       7   0.620690              10     0.187715   \n",
       "filipo        0.111098      14   0.818182              77     0.303584   \n",
       "sergio        0.062079      13   0.782609              68     0.298777   \n",
       "todos         0.016249      11   0.720000              40     0.276383   \n",
       "capricho      0.092035      14   0.818182              82     0.307668   \n",
       "julia         0.013072      10   0.692308              45     0.255113   \n",
       "aurelio       0.156227      15   0.857143              92     0.305754   \n",
       "melancia      0.034768      12   0.750000              52     0.285487   \n",
       "flora         0.000000       4   0.529412               8     0.107151   \n",
       "músicos       0.003890      10   0.692308              19     0.261958   \n",
       "cesarino      0.062079      13   0.782609              68     0.298777   \n",
       "uno           0.000000       2   0.529412               2     0.056577   \n",
       "unos          0.000000       4   0.500000               4     0.092235   \n",
       "otros         0.000000       4   0.500000               4     0.092235   \n",
       "soldado-1     0.004357       5   0.545455               7     0.114386   \n",
       "soldado-2     0.000000       3   0.514286               3     0.067577   \n",
       "gente         0.000000       4   0.529412               4     0.108604   \n",
       "\n",
       "           numOfScenes  numOfSpeechActs  numOfWords  \n",
       "id                                                   \n",
       "eugenia             34              154        3360  \n",
       "eleno               10               43         702  \n",
       "demonio              5               13         436  \n",
       "filipo              27               59        1012  \n",
       "sergio              21               50         690  \n",
       "todos               11               12          63  \n",
       "capricho            35              131        1898  \n",
       "julia               14               37         369  \n",
       "aurelio             36              159        3152  \n",
       "melancia            21               90        1629  \n",
       "flora                3                3          13  \n",
       "músicos              7               11         213  \n",
       "cesarino            21               61        1245  \n",
       "uno                  1                1           5  \n",
       "unos                 1                1           5  \n",
       "otros                1                1           5  \n",
       "soldado-1            2                4          18  \n",
       "soldado-2            1                1           7  \n",
       "gente                1                2          12  "
      ]
     },
     "execution_count": 9,
     "metadata": {},
     "output_type": "execute_result"
    }
   ],
   "source": [
    "# columns\n",
    "cols = [\"id\",\"betweenness\",\"degree\",\"closeness\",\"weightedDegree\",\"eigenvector\",\"numOfScenes\",\"numOfSpeechActs\",\"numOfWords\"]\n",
    "\n",
    "# prepare the data for the data frame\n",
    "df_data = []\n",
    "for character in character_data:\n",
    "    row = []\n",
    "    for key in cols:\n",
    "        row.append(character[key])\n",
    "    df_data.append(row)\n",
    "\n",
    "# construct the data frame\n",
    "df = pd.DataFrame(df_data, columns = cols)\n",
    "\n",
    "#turn the column \"id\" to the index\n",
    "df = df.set_index('id')\n",
    "#output\n",
    "df      "
   ]
  },
  {
   "cell_type": "markdown",
   "metadata": {},
   "source": [
    "We can now query the data, e.g. output the values of a single character by requesting a row by its index value, which is the `id` of the character. "
   ]
  },
  {
   "cell_type": "code",
   "execution_count": 10,
   "metadata": {},
   "outputs": [
    {
     "ename": "KeyError",
     "evalue": "'marinelli'",
     "output_type": "error",
     "traceback": [
      "\u001b[0;31m---------------------------------------------------------------------------\u001b[0m",
      "\u001b[0;31mKeyError\u001b[0m                                  Traceback (most recent call last)",
      "File \u001b[0;32m/Library/Frameworks/Python.framework/Versions/3.12/lib/python3.12/site-packages/pandas/core/indexes/base.py:3791\u001b[0m, in \u001b[0;36mIndex.get_loc\u001b[0;34m(self, key)\u001b[0m\n\u001b[1;32m   3790\u001b[0m \u001b[38;5;28;01mtry\u001b[39;00m:\n\u001b[0;32m-> 3791\u001b[0m     \u001b[38;5;28;01mreturn\u001b[39;00m \u001b[38;5;28;43mself\u001b[39;49m\u001b[38;5;241;43m.\u001b[39;49m\u001b[43m_engine\u001b[49m\u001b[38;5;241;43m.\u001b[39;49m\u001b[43mget_loc\u001b[49m\u001b[43m(\u001b[49m\u001b[43mcasted_key\u001b[49m\u001b[43m)\u001b[49m\n\u001b[1;32m   3792\u001b[0m \u001b[38;5;28;01mexcept\u001b[39;00m \u001b[38;5;167;01mKeyError\u001b[39;00m \u001b[38;5;28;01mas\u001b[39;00m err:\n",
      "File \u001b[0;32mindex.pyx:152\u001b[0m, in \u001b[0;36mpandas._libs.index.IndexEngine.get_loc\u001b[0;34m()\u001b[0m\n",
      "File \u001b[0;32mindex.pyx:181\u001b[0m, in \u001b[0;36mpandas._libs.index.IndexEngine.get_loc\u001b[0;34m()\u001b[0m\n",
      "File \u001b[0;32mpandas/_libs/hashtable_class_helper.pxi:7080\u001b[0m, in \u001b[0;36mpandas._libs.hashtable.PyObjectHashTable.get_item\u001b[0;34m()\u001b[0m\n",
      "File \u001b[0;32mpandas/_libs/hashtable_class_helper.pxi:7088\u001b[0m, in \u001b[0;36mpandas._libs.hashtable.PyObjectHashTable.get_item\u001b[0;34m()\u001b[0m\n",
      "\u001b[0;31mKeyError\u001b[0m: 'marinelli'",
      "\nThe above exception was the direct cause of the following exception:\n",
      "\u001b[0;31mKeyError\u001b[0m                                  Traceback (most recent call last)",
      "Cell \u001b[0;32mIn[10], line 2\u001b[0m\n\u001b[1;32m      1\u001b[0m \u001b[38;5;66;03m# get the values of a single character\u001b[39;00m\n\u001b[0;32m----> 2\u001b[0m \u001b[43mdf\u001b[49m\u001b[38;5;241;43m.\u001b[39;49m\u001b[43mloc\u001b[49m\u001b[43m[\u001b[49m\u001b[38;5;124;43m\"\u001b[39;49m\u001b[38;5;124;43mmarinelli\u001b[39;49m\u001b[38;5;124;43m\"\u001b[39;49m\u001b[43m]\u001b[49m\n",
      "File \u001b[0;32m/Library/Frameworks/Python.framework/Versions/3.12/lib/python3.12/site-packages/pandas/core/indexing.py:1153\u001b[0m, in \u001b[0;36m_LocationIndexer.__getitem__\u001b[0;34m(self, key)\u001b[0m\n\u001b[1;32m   1150\u001b[0m axis \u001b[38;5;241m=\u001b[39m \u001b[38;5;28mself\u001b[39m\u001b[38;5;241m.\u001b[39maxis \u001b[38;5;129;01mor\u001b[39;00m \u001b[38;5;241m0\u001b[39m\n\u001b[1;32m   1152\u001b[0m maybe_callable \u001b[38;5;241m=\u001b[39m com\u001b[38;5;241m.\u001b[39mapply_if_callable(key, \u001b[38;5;28mself\u001b[39m\u001b[38;5;241m.\u001b[39mobj)\n\u001b[0;32m-> 1153\u001b[0m \u001b[38;5;28;01mreturn\u001b[39;00m \u001b[38;5;28;43mself\u001b[39;49m\u001b[38;5;241;43m.\u001b[39;49m\u001b[43m_getitem_axis\u001b[49m\u001b[43m(\u001b[49m\u001b[43mmaybe_callable\u001b[49m\u001b[43m,\u001b[49m\u001b[43m \u001b[49m\u001b[43maxis\u001b[49m\u001b[38;5;241;43m=\u001b[39;49m\u001b[43maxis\u001b[49m\u001b[43m)\u001b[49m\n",
      "File \u001b[0;32m/Library/Frameworks/Python.framework/Versions/3.12/lib/python3.12/site-packages/pandas/core/indexing.py:1393\u001b[0m, in \u001b[0;36m_LocIndexer._getitem_axis\u001b[0;34m(self, key, axis)\u001b[0m\n\u001b[1;32m   1391\u001b[0m \u001b[38;5;66;03m# fall thru to straight lookup\u001b[39;00m\n\u001b[1;32m   1392\u001b[0m \u001b[38;5;28mself\u001b[39m\u001b[38;5;241m.\u001b[39m_validate_key(key, axis)\n\u001b[0;32m-> 1393\u001b[0m \u001b[38;5;28;01mreturn\u001b[39;00m \u001b[38;5;28;43mself\u001b[39;49m\u001b[38;5;241;43m.\u001b[39;49m\u001b[43m_get_label\u001b[49m\u001b[43m(\u001b[49m\u001b[43mkey\u001b[49m\u001b[43m,\u001b[49m\u001b[43m \u001b[49m\u001b[43maxis\u001b[49m\u001b[38;5;241;43m=\u001b[39;49m\u001b[43maxis\u001b[49m\u001b[43m)\u001b[49m\n",
      "File \u001b[0;32m/Library/Frameworks/Python.framework/Versions/3.12/lib/python3.12/site-packages/pandas/core/indexing.py:1343\u001b[0m, in \u001b[0;36m_LocIndexer._get_label\u001b[0;34m(self, label, axis)\u001b[0m\n\u001b[1;32m   1341\u001b[0m \u001b[38;5;28;01mdef\u001b[39;00m \u001b[38;5;21m_get_label\u001b[39m(\u001b[38;5;28mself\u001b[39m, label, axis: AxisInt):\n\u001b[1;32m   1342\u001b[0m     \u001b[38;5;66;03m# GH#5567 this will fail if the label is not present in the axis.\u001b[39;00m\n\u001b[0;32m-> 1343\u001b[0m     \u001b[38;5;28;01mreturn\u001b[39;00m \u001b[38;5;28;43mself\u001b[39;49m\u001b[38;5;241;43m.\u001b[39;49m\u001b[43mobj\u001b[49m\u001b[38;5;241;43m.\u001b[39;49m\u001b[43mxs\u001b[49m\u001b[43m(\u001b[49m\u001b[43mlabel\u001b[49m\u001b[43m,\u001b[49m\u001b[43m \u001b[49m\u001b[43maxis\u001b[49m\u001b[38;5;241;43m=\u001b[39;49m\u001b[43maxis\u001b[49m\u001b[43m)\u001b[49m\n",
      "File \u001b[0;32m/Library/Frameworks/Python.framework/Versions/3.12/lib/python3.12/site-packages/pandas/core/generic.py:4236\u001b[0m, in \u001b[0;36mNDFrame.xs\u001b[0;34m(self, key, axis, level, drop_level)\u001b[0m\n\u001b[1;32m   4234\u001b[0m             new_index \u001b[38;5;241m=\u001b[39m index[loc]\n\u001b[1;32m   4235\u001b[0m \u001b[38;5;28;01melse\u001b[39;00m:\n\u001b[0;32m-> 4236\u001b[0m     loc \u001b[38;5;241m=\u001b[39m \u001b[43mindex\u001b[49m\u001b[38;5;241;43m.\u001b[39;49m\u001b[43mget_loc\u001b[49m\u001b[43m(\u001b[49m\u001b[43mkey\u001b[49m\u001b[43m)\u001b[49m\n\u001b[1;32m   4238\u001b[0m     \u001b[38;5;28;01mif\u001b[39;00m \u001b[38;5;28misinstance\u001b[39m(loc, np\u001b[38;5;241m.\u001b[39mndarray):\n\u001b[1;32m   4239\u001b[0m         \u001b[38;5;28;01mif\u001b[39;00m loc\u001b[38;5;241m.\u001b[39mdtype \u001b[38;5;241m==\u001b[39m np\u001b[38;5;241m.\u001b[39mbool_:\n",
      "File \u001b[0;32m/Library/Frameworks/Python.framework/Versions/3.12/lib/python3.12/site-packages/pandas/core/indexes/base.py:3798\u001b[0m, in \u001b[0;36mIndex.get_loc\u001b[0;34m(self, key)\u001b[0m\n\u001b[1;32m   3793\u001b[0m     \u001b[38;5;28;01mif\u001b[39;00m \u001b[38;5;28misinstance\u001b[39m(casted_key, \u001b[38;5;28mslice\u001b[39m) \u001b[38;5;129;01mor\u001b[39;00m (\n\u001b[1;32m   3794\u001b[0m         \u001b[38;5;28misinstance\u001b[39m(casted_key, abc\u001b[38;5;241m.\u001b[39mIterable)\n\u001b[1;32m   3795\u001b[0m         \u001b[38;5;129;01mand\u001b[39;00m \u001b[38;5;28many\u001b[39m(\u001b[38;5;28misinstance\u001b[39m(x, \u001b[38;5;28mslice\u001b[39m) \u001b[38;5;28;01mfor\u001b[39;00m x \u001b[38;5;129;01min\u001b[39;00m casted_key)\n\u001b[1;32m   3796\u001b[0m     ):\n\u001b[1;32m   3797\u001b[0m         \u001b[38;5;28;01mraise\u001b[39;00m InvalidIndexError(key)\n\u001b[0;32m-> 3798\u001b[0m     \u001b[38;5;28;01mraise\u001b[39;00m \u001b[38;5;167;01mKeyError\u001b[39;00m(key) \u001b[38;5;28;01mfrom\u001b[39;00m \u001b[38;5;21;01merr\u001b[39;00m\n\u001b[1;32m   3799\u001b[0m \u001b[38;5;28;01mexcept\u001b[39;00m \u001b[38;5;167;01mTypeError\u001b[39;00m:\n\u001b[1;32m   3800\u001b[0m     \u001b[38;5;66;03m# If we have a listlike key, _check_indexing_error will raise\u001b[39;00m\n\u001b[1;32m   3801\u001b[0m     \u001b[38;5;66;03m#  InvalidIndexError. Otherwise we fall through and re-raise\u001b[39;00m\n\u001b[1;32m   3802\u001b[0m     \u001b[38;5;66;03m#  the TypeError.\u001b[39;00m\n\u001b[1;32m   3803\u001b[0m     \u001b[38;5;28mself\u001b[39m\u001b[38;5;241m.\u001b[39m_check_indexing_error(key)\n",
      "\u001b[0;31mKeyError\u001b[0m: 'marinelli'"
     ]
    }
   ],
   "source": [
    "# get the values of a single character\n",
    "df.loc[\"aurelio\"]"
   ]
  },
  {
   "cell_type": "markdown",
   "metadata": {},
   "source": [
    "## Step 2. Calculate the ranks"
   ]
  },
  {
   "cell_type": "markdown",
   "metadata": {},
   "source": [
    "In Dramavis the function [`get_character_ranks`](https://github.com/lehkost/dramavis/blob/v0.4/dramalyzer.py#L282-L288) creates the rankings of the count-based and network-based measures. We will adapt this function to operate on the created data frame and rename the columns:"
   ]
  },
  {
   "cell_type": "code",
   "execution_count": null,
   "metadata": {},
   "outputs": [],
   "source": [
    "metrics_to_rank = ['degree', 'closeness', 'betweenness', 'weightedDegree', 'eigenvector', 'numOfScenes', 'numOfSpeechActs', 'numOfWords']\n",
    "for metric in metrics_to_rank:\n",
    "    df[metric + \"_rank\"] = df[metric].rank(method='min', ascending=False)\n",
    "df   "
   ]
  },
  {
   "cell_type": "markdown",
   "metadata": {},
   "source": [
    "## Step 3. Rank on average and standard deviation of the individual rankings"
   ]
  },
  {
   "cell_type": "markdown",
   "metadata": {},
   "source": [
    "In Dramavis the individual rankings are then used for the calculation of an average ranking and the standard deviation, which are then also ranked. This is done by the function [`get_centrality_ranks`](https://github.com/lehkost/dramavis/blob/v0.4/dramalyzer.py#L305-L310).\n",
    "\n",
    "The following columns will be added to the data frame:\n",
    "\n",
    "* (1) `centrality_rank_avg`: The average of all rankings\n",
    "* (2) `centrality_rank_std`: Standard deviation of the rankings\n",
    "* (3) `centrality_rank_avg_rank`: A ranking is created from the average of all rankings (1)\n",
    "* (4) `centrality_rank_std_rank`: A ranking is created from the standard deviation of all rankings (2)\n",
    "\n",
    "The following dramavis code is adapted accordingly to operate on the dataframe:"
   ]
  },
  {
   "cell_type": "code",
   "execution_count": null,
   "metadata": {},
   "outputs": [],
   "source": [
    "ranks = [c for c in df.columns if c.endswith(\"rank\")]\n",
    "df['centrality_rank_avg'] = df[ranks].sum(axis=1)/len(ranks)\n",
    "df['centrality_rank_std'] = df[ranks].std(axis=1)/len(ranks)\n",
    "for metric in ['centrality_rank_avg', 'centrality_rank_std']:\n",
    "    df[metric + \"_rank\"] = df[metric].rank(method='min', ascending=True)\n",
    "df"
   ]
  },
  {
   "cell_type": "markdown",
   "metadata": {},
   "source": [
    "Based on the calculation of `centrality_rank_avg_rank`, the \"central\" characters can be already queried as follows:"
   ]
  },
  {
   "cell_type": "code",
   "execution_count": null,
   "metadata": {},
   "outputs": [],
   "source": [
    "df[df[\"centrality_rank_avg_rank\"] == 1].index.tolist()"
   ]
  },
  {
   "cell_type": "markdown",
   "metadata": {},
   "source": [
    "## Additional Step: Create Rankings and combined rankings of network-based and count-based metrics separately"
   ]
  },
  {
   "cell_type": "markdown",
   "metadata": {},
   "source": [
    "In addition to a ranking that combines all metrics and rankings derived thereof, the function [`get_structural_ranking_measures`](https://github.com/lehkost/dramavis/blob/v0.4/dramalyzer.py#L318-L330) treats network-based and count-based values separately and only then aggregates them to a combined overall ranking.\n",
    "\n",
    "The function adds the following rows to the data frame:\n",
    "\n",
    "* (1) `avg_graph_rank`: a ranking based on the rankings of the network-values (*degree*, *closeness*, *betweenness*, *strength* or *weightedDegree* and *eigenvector centrality* or *eigenvector*)\n",
    "* (2) `avg_content_rank`: a ranking based on the rankings of the count-based values (*frequency* or *numOfScenes*, *speech acts* and *words*)\n",
    "* (3) `overall_avg`: the two rankings (1+2) are combined by calculating the mean\n",
    "* (4) `overall_avg_rank`: based on the overall average (3) a ranking is created\n",
    "\n",
    "The following code is adapted accordingly to operate on the dataframe. The ranking stability measures are not implemented here."
   ]
  },
  {
   "cell_type": "code",
   "execution_count": null,
   "metadata": {},
   "outputs": [],
   "source": [
    "#renamed the columns to match the DraCor values here:\n",
    "graph_ranks = ['degree_rank', 'closeness_rank', 'betweenness_rank', 'weightedDegree_rank', 'eigenvector_rank']\n",
    "content_ranks = ['numOfScenes_rank', 'numOfSpeechActs_rank', 'numOfWords_rank']\n",
    "avg_graph_rank = df[graph_ranks].mean(axis=1).rank(method='min')\n",
    "avg_content_rank = df[content_ranks].mean(axis=1).rank(method='min')\n",
    "df[\"avg_graph_rank\"] = avg_graph_rank\n",
    "df[\"avg_content_rank\"] = avg_content_rank\n",
    "df[\"overall_avg\"] = df[[\"avg_graph_rank\", \"avg_content_rank\"]].mean(axis=1)\n",
    "df[\"overall_avg_rank\"] = df[\"overall_avg\"].rank(method='min')\n",
    "df"
   ]
  },
  {
   "cell_type": "markdown",
   "metadata": {},
   "source": [
    "Based on the calculation of `overall_avg_rank`, the \"central\" characters can be queried as follows:"
   ]
  },
  {
   "cell_type": "code",
   "execution_count": null,
   "metadata": {
    "editable": true,
    "slideshow": {
     "slide_type": ""
    },
    "tags": []
   },
   "outputs": [],
   "source": [
    "df[df[\"overall_avg_rank\"] == 1].index.tolist()"
   ]
  },
  {
   "cell_type": "markdown",
   "metadata": {},
   "source": [
    "It is also possible to output a table sorted by rank:"
   ]
  },
  {
   "cell_type": "code",
   "execution_count": null,
   "metadata": {
    "editable": true,
    "slideshow": {
     "slide_type": ""
    },
    "tags": []
   },
   "outputs": [],
   "source": [
    "df[\"centrality_rank_avg_rank\"].sort_values()"
   ]
  }
 ],
 "metadata": {
  "kernelspec": {
   "display_name": "Python 3 (ipykernel)",
   "language": "python",
   "name": "python3"
  },
  "language_info": {
   "codemirror_mode": {
    "name": "ipython",
    "version": 3
   },
   "file_extension": ".py",
   "mimetype": "text/x-python",
   "name": "python",
   "nbconvert_exporter": "python",
   "pygments_lexer": "ipython3",
   "version": "3.12.1"
  }
 },
 "nbformat": 4,
 "nbformat_minor": 4
}
